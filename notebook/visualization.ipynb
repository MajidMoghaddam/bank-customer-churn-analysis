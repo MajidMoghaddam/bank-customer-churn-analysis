{
 "cells": [
  {
   "cell_type": "code",
   "execution_count": 1,
   "id": "5716c3f1",
   "metadata": {},
   "outputs": [],
   "source": [
    "import pandas as pd\n",
    "import matplotlib.pyplot as plt\n",
    "import seaborn as sns\n",
    "import plotly.express as px\n",
    "import plotly.graph_objects as go\n",
    "import plotly.io as pio\n",
    "import numpy as np"
   ]
  },
  {
   "cell_type": "code",
   "execution_count": 2,
   "id": "b1eb29fd",
   "metadata": {},
   "outputs": [],
   "source": [
    "font_dict_WOL = dict(family=\"Vazir FD-WOL\", weight=\"bold\", size=13)\n",
    "font_dict_R = dict(family=\"Vazir\", weight=\"bold\", size=13)\n",
    "global_width = 1000\n",
    "global_height = 500"
   ]
  },
  {
   "cell_type": "code",
   "execution_count": 3,
   "id": "61950684",
   "metadata": {},
   "outputs": [],
   "source": [
    "df = pd.read_csv(\"Bank_Churn.csv\", index_col=0)"
   ]
  },
  {
   "cell_type": "markdown",
   "id": "93145e61",
   "metadata": {},
   "source": [
    "----------------------------------------- Step 1 -----------------------------------------"
   ]
  },
  {
   "cell_type": "code",
   "execution_count": null,
   "id": "7e7ece9d",
   "metadata": {},
   "outputs": [],
   "source": [
    "def draw_histogram(\n",
    "    df, col, title, xtitle, ytitle, width, height,  \n",
    "    method=\"FD\",  # choose binning method\n",
    "    bargap=0.1, marker_color='skyblue',\n",
    "    marker_line_color='black', marker_line_width=0.5, opacity=0.8,\n",
    "    format_k_labels=False, save=False, scale=2\n",
    "):\n",
    "    data = df[col].dropna().values\n",
    "    n = len(data)\n",
    "\n",
    "    data_min = data.min()\n",
    "    data_max = data.max()\n",
    "\n",
    "    # --- Bin width calculation methods ---\n",
    "    if method == \"FD\":  # Freedman–Diaconis\n",
    "        q25, q75 = np.percentile(data, [25, 75])\n",
    "        iqr = q75 - q25\n",
    "        bin_width = 2 * iqr / (n ** (1/3))\n",
    "    elif method == \"Scott\":\n",
    "        bin_width = 3.5 * np.std(data) / (n ** (1/3))\n",
    "    elif method == \"Sturges\":\n",
    "        k = 1 + np.log2(n)\n",
    "        bin_width = (data_max - data_min) / k\n",
    "    elif method == \"sqrt\":\n",
    "        k = int(np.sqrt(n))\n",
    "        bin_width = (data_max - data_min) / k\n",
    "    else:\n",
    "        raise ValueError(\"Method must be one of: 'FD', 'Scott', 'Sturges', 'sqrt'\")\n",
    "\n",
    "    # Handle edge cases\n",
    "    if bin_width == 0:\n",
    "        bin_width = (data_max - data_min) / (1 + np.log2(n))\n",
    "\n",
    "    # Round to nearest whole number (minimum 1)\n",
    "    bin_width = max(1, int(round(bin_width)))\n",
    "\n",
    "    # Bin edges\n",
    "    bin_start = data_min\n",
    "    bin_end = data_max\n",
    "    bins = np.arange(bin_start, bin_end + bin_width, bin_width)\n",
    "\n",
    "    # Function to format numbers as \"k\" if >=1000\n",
    "    def format_k(x):\n",
    "        if x >= 1000:\n",
    "            return f\"{int(x/1000)}k\"\n",
    "        return str(int(x))\n",
    "\n",
    "    # Create custom tick labels like \"350-365\", optionally formatted\n",
    "    if format_k_labels:\n",
    "        tick_labels = [f\"{format_k(bins[i])} - {format_k(bins[i+1]-1)}\" for i in range(len(bins)-1)]\n",
    "    else:\n",
    "        tick_labels = [f\"{int(bins[i])} - {int(bins[i+1]-1)}\" for i in range(len(bins)-1)]\n",
    "\n",
    "    tick_positions = bins[:-1] + bin_width/2  # position in the middle of each bin\n",
    "\n",
    "    # Draw Plotly histogram \n",
    "    fig = go.Figure(\n",
    "        go.Histogram(\n",
    "            x=data,\n",
    "            xbins=dict(start=bin_start, end=(bin_end + bin_width), size=bin_width)\n",
    "        )\n",
    "    )\n",
    "    fig.update_layout(\n",
    "        title=dict(text=title, x=0.5, xanchor='center'),\n",
    "        # xaxis=dict(title=xtitle, tick0=data_min, dtick=bin_width),\n",
    "        xaxis=dict(\n",
    "            title=xtitle,\n",
    "            tickmode='array',\n",
    "            tickvals=tick_positions,\n",
    "            ticktext=tick_labels\n",
    "        ),\n",
    "        yaxis=dict(title=ytitle),\n",
    "        width=width,\n",
    "        height=height,\n",
    "        bargap=bargap,\n",
    "        font=font_dict_WOL\n",
    "    )\n",
    "    fig.update_traces(\n",
    "        marker_color=marker_color,\n",
    "        marker_line_color=marker_line_color,\n",
    "        marker_line_width=marker_line_width,\n",
    "        opacity=opacity\n",
    "    )\n",
    "    if save:\n",
    "        pio.write_image(fig, f\"{col}_Histogeram.jpg\", width=width, height=height, scale=scale)\n",
    "    fig.show()"
   ]
  },
  {
   "cell_type": "code",
   "execution_count": 38,
   "id": "4d4e3764",
   "metadata": {},
   "outputs": [],
   "source": [
    "def draw_pie_chart(\n",
    "    df, col, title, width, height, \n",
    "    custom_colors=None, custom_labels=None, \n",
    "    save=False, scale=2\n",
    "):\n",
    "\n",
    "    # Count occurrences of each category\n",
    "    counts = df[col].value_counts().reset_index()\n",
    "    counts.columns = [col, 'Count']  # rename columns for clarity\n",
    "    \n",
    "    # Define a better color palette (distinct & colorblind-friendly)\n",
    "    if custom_colors is None:\n",
    "        custom_colors = [\n",
    "            \"#636EFA\",  # blue\n",
    "            \"#FF6692\",  # pink\n",
    "            \"#00CC96\",  # green\n",
    "            \"#FECB52\",   # yellow\n",
    "            \"#AB63FA\",  # purple\n",
    "            \"#FFA15A\",  # orange\n",
    "            \"#19D3F3\",  # teal\n",
    "            \"#B6E880\",  # light green\n",
    "            \"#FF97FF\",  # magenta\n",
    "            \"#EF553B\"  # red-orange\n",
    "        ]\n",
    "\n",
    "    if custom_labels is not None:\n",
    "        counts[col] = counts[col].replace(custom_labels)\n",
    "    \n",
    "    # Create pie chart\n",
    "    fig = px.pie(\n",
    "        counts,\n",
    "        names=col,\n",
    "        values=\"Count\",\n",
    "        title=title,\n",
    "        color_discrete_sequence=custom_colors\n",
    "    )\n",
    "    \n",
    "    # Show percentage and label\n",
    "    fig.update_traces(textinfo=\"percent+label\")\n",
    "    \n",
    "    # Layout: Persian font, centered title\n",
    "    fig.update_layout(\n",
    "        width=width,\n",
    "        height=height,\n",
    "        font=font_dict_WOL,\n",
    "        title=dict(text=title, x=0.5, xanchor=\"center\")\n",
    "    )\n",
    "    if save:\n",
    "        pio.write_image(fig, f\"{col}_Piechart.jpg\", width=width, height=height, scale=scale)\n",
    "    fig.show()\n"
   ]
  },
  {
   "cell_type": "code",
   "execution_count": 39,
   "id": "f98feba4",
   "metadata": {},
   "outputs": [],
   "source": [
    "def draw_bar(\n",
    "    df, col, title, xtitle, ytitle, width, height,\n",
    "    marker_color='skyblue',\n",
    "    marker_line_color='black', marker_line_width=0.5, opacity=0.8,\n",
    "    horizontal=False, show_labels=True, save=False, scale=2\n",
    "):\n",
    "\n",
    "    # Count unique values\n",
    "    counts = df[col].value_counts().reset_index()\n",
    "    counts.columns = [col, 'Count']\n",
    "    \n",
    "    # Sort values descending\n",
    "    counts = counts.sort_values('Count', ascending=False)\n",
    "    \n",
    "    # Choose orientation\n",
    "    if horizontal:\n",
    "        fig = px.bar(\n",
    "            counts, \n",
    "            x='Count', \n",
    "            y=col,\n",
    "            orientation='h',\n",
    "            text='Count' if show_labels else None\n",
    "        )\n",
    "    else:\n",
    "        fig = px.bar(\n",
    "            counts, \n",
    "            x=col, \n",
    "            y='Count', \n",
    "            text='Count' if show_labels else None\n",
    "        )\n",
    "    \n",
    "    # Persian font and styling\n",
    "    fig.update_layout(\n",
    "        xaxis=dict(title=xtitle, tickmode='array', tickvals=counts[col]),\n",
    "        yaxis_title=ytitle,\n",
    "        width=width,\n",
    "        height=height,\n",
    "        font=font_dict_WOL,\n",
    "        title=dict(text=title, x=0.5, xanchor='center')\n",
    "    )\n",
    "    \n",
    "    # Show counts on bars\n",
    "    fig.update_traces(\n",
    "        textposition='auto',\n",
    "        marker_color=marker_color,\n",
    "        marker_line_color=marker_line_color,\n",
    "        marker_line_width=marker_line_width,\n",
    "        opacity=opacity\n",
    "    )\n",
    "\n",
    "    if save:\n",
    "        pio.write_image(fig, f\"{col}_Barchart.jpg\", width=width, height=height, scale=scale)\n",
    "\n",
    "    fig.show()"
   ]
  },
  {
   "cell_type": "code",
   "execution_count": null,
   "id": "d42120e5",
   "metadata": {},
   "outputs": [
    {
     "data": {
      "application/vnd.plotly.v1+json": {
       "config": {
        "plotlyServerURL": "https://plot.ly"
       },
       "data": [
        {
         "marker": {
          "color": "skyblue",
          "line": {
           "color": "black",
           "width": 0.5
          }
         },
         "opacity": 0.8,
         "type": "histogram",
         "x": {
          "bdata": "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",
          "dtype": "i2"
         },
         "xbins": {
          "end": 866,
          "size": 16,
          "start": 350
         }
        }
       ],
       "layout": {
        "bargap": 0.1,
        "font": {
         "family": "Vazir FD-WOL",
         "size": 13,
         "weight": "bold"
        },
        "height": 500,
        "template": {
         "data": {
          "bar": [
           {
            "error_x": {
             "color": "#2a3f5f"
            },
            "error_y": {
             "color": "#2a3f5f"
            },
            "marker": {
             "line": {
              "color": "#E5ECF6",
              "width": 0.5
             },
             "pattern": {
              "fillmode": "overlay",
              "size": 10,
              "solidity": 0.2
             }
            },
            "type": "bar"
           }
          ],
          "barpolar": [
           {
            "marker": {
             "line": {
              "color": "#E5ECF6",
              "width": 0.5
             },
             "pattern": {
              "fillmode": "overlay",
              "size": 10,
              "solidity": 0.2
             }
            },
            "type": "barpolar"
           }
          ],
          "carpet": [
           {
            "aaxis": {
             "endlinecolor": "#2a3f5f",
             "gridcolor": "white",
             "linecolor": "white",
             "minorgridcolor": "white",
             "startlinecolor": "#2a3f5f"
            },
            "baxis": {
             "endlinecolor": "#2a3f5f",
             "gridcolor": "white",
             "linecolor": "white",
             "minorgridcolor": "white",
             "startlinecolor": "#2a3f5f"
            },
            "type": "carpet"
           }
          ],
          "choropleth": [
           {
            "colorbar": {
             "outlinewidth": 0,
             "ticks": ""
            },
            "type": "choropleth"
           }
          ],
          "contour": [
           {
            "colorbar": {
             "outlinewidth": 0,
             "ticks": ""
            },
            "colorscale": [
             [
              0,
              "#0d0887"
             ],
             [
              0.1111111111111111,
              "#46039f"
             ],
             [
              0.2222222222222222,
              "#7201a8"
             ],
             [
              0.3333333333333333,
              "#9c179e"
             ],
             [
              0.4444444444444444,
              "#bd3786"
             ],
             [
              0.5555555555555556,
              "#d8576b"
             ],
             [
              0.6666666666666666,
              "#ed7953"
             ],
             [
              0.7777777777777778,
              "#fb9f3a"
             ],
             [
              0.8888888888888888,
              "#fdca26"
             ],
             [
              1,
              "#f0f921"
             ]
            ],
            "type": "contour"
           }
          ],
          "contourcarpet": [
           {
            "colorbar": {
             "outlinewidth": 0,
             "ticks": ""
            },
            "type": "contourcarpet"
           }
          ],
          "heatmap": [
           {
            "colorbar": {
             "outlinewidth": 0,
             "ticks": ""
            },
            "colorscale": [
             [
              0,
              "#0d0887"
             ],
             [
              0.1111111111111111,
              "#46039f"
             ],
             [
              0.2222222222222222,
              "#7201a8"
             ],
             [
              0.3333333333333333,
              "#9c179e"
             ],
             [
              0.4444444444444444,
              "#bd3786"
             ],
             [
              0.5555555555555556,
              "#d8576b"
             ],
             [
              0.6666666666666666,
              "#ed7953"
             ],
             [
              0.7777777777777778,
              "#fb9f3a"
             ],
             [
              0.8888888888888888,
              "#fdca26"
             ],
             [
              1,
              "#f0f921"
             ]
            ],
            "type": "heatmap"
           }
          ],
          "histogram": [
           {
            "marker": {
             "pattern": {
              "fillmode": "overlay",
              "size": 10,
              "solidity": 0.2
             }
            },
            "type": "histogram"
           }
          ],
          "histogram2d": [
           {
            "colorbar": {
             "outlinewidth": 0,
             "ticks": ""
            },
            "colorscale": [
             [
              0,
              "#0d0887"
             ],
             [
              0.1111111111111111,
              "#46039f"
             ],
             [
              0.2222222222222222,
              "#7201a8"
             ],
             [
              0.3333333333333333,
              "#9c179e"
             ],
             [
              0.4444444444444444,
              "#bd3786"
             ],
             [
              0.5555555555555556,
              "#d8576b"
             ],
             [
              0.6666666666666666,
              "#ed7953"
             ],
             [
              0.7777777777777778,
              "#fb9f3a"
             ],
             [
              0.8888888888888888,
              "#fdca26"
             ],
             [
              1,
              "#f0f921"
             ]
            ],
            "type": "histogram2d"
           }
          ],
          "histogram2dcontour": [
           {
            "colorbar": {
             "outlinewidth": 0,
             "ticks": ""
            },
            "colorscale": [
             [
              0,
              "#0d0887"
             ],
             [
              0.1111111111111111,
              "#46039f"
             ],
             [
              0.2222222222222222,
              "#7201a8"
             ],
             [
              0.3333333333333333,
              "#9c179e"
             ],
             [
              0.4444444444444444,
              "#bd3786"
             ],
             [
              0.5555555555555556,
              "#d8576b"
             ],
             [
              0.6666666666666666,
              "#ed7953"
             ],
             [
              0.7777777777777778,
              "#fb9f3a"
             ],
             [
              0.8888888888888888,
              "#fdca26"
             ],
             [
              1,
              "#f0f921"
             ]
            ],
            "type": "histogram2dcontour"
           }
          ],
          "mesh3d": [
           {
            "colorbar": {
             "outlinewidth": 0,
             "ticks": ""
            },
            "type": "mesh3d"
           }
          ],
          "parcoords": [
           {
            "line": {
             "colorbar": {
              "outlinewidth": 0,
              "ticks": ""
             }
            },
            "type": "parcoords"
           }
          ],
          "pie": [
           {
            "automargin": true,
            "type": "pie"
           }
          ],
          "scatter": [
           {
            "fillpattern": {
             "fillmode": "overlay",
             "size": 10,
             "solidity": 0.2
            },
            "type": "scatter"
           }
          ],
          "scatter3d": [
           {
            "line": {
             "colorbar": {
              "outlinewidth": 0,
              "ticks": ""
             }
            },
            "marker": {
             "colorbar": {
              "outlinewidth": 0,
              "ticks": ""
             }
            },
            "type": "scatter3d"
           }
          ],
          "scattercarpet": [
           {
            "marker": {
             "colorbar": {
              "outlinewidth": 0,
              "ticks": ""
             }
            },
            "type": "scattercarpet"
           }
          ],
          "scattergeo": [
           {
            "marker": {
             "colorbar": {
              "outlinewidth": 0,
              "ticks": ""
             }
            },
            "type": "scattergeo"
           }
          ],
          "scattergl": [
           {
            "marker": {
             "colorbar": {
              "outlinewidth": 0,
              "ticks": ""
             }
            },
            "type": "scattergl"
           }
          ],
          "scattermap": [
           {
            "marker": {
             "colorbar": {
              "outlinewidth": 0,
              "ticks": ""
             }
            },
            "type": "scattermap"
           }
          ],
          "scattermapbox": [
           {
            "marker": {
             "colorbar": {
              "outlinewidth": 0,
              "ticks": ""
             }
            },
            "type": "scattermapbox"
           }
          ],
          "scatterpolar": [
           {
            "marker": {
             "colorbar": {
              "outlinewidth": 0,
              "ticks": ""
             }
            },
            "type": "scatterpolar"
           }
          ],
          "scatterpolargl": [
           {
            "marker": {
             "colorbar": {
              "outlinewidth": 0,
              "ticks": ""
             }
            },
            "type": "scatterpolargl"
           }
          ],
          "scatterternary": [
           {
            "marker": {
             "colorbar": {
              "outlinewidth": 0,
              "ticks": ""
             }
            },
            "type": "scatterternary"
           }
          ],
          "surface": [
           {
            "colorbar": {
             "outlinewidth": 0,
             "ticks": ""
            },
            "colorscale": [
             [
              0,
              "#0d0887"
             ],
             [
              0.1111111111111111,
              "#46039f"
             ],
             [
              0.2222222222222222,
              "#7201a8"
             ],
             [
              0.3333333333333333,
              "#9c179e"
             ],
             [
              0.4444444444444444,
              "#bd3786"
             ],
             [
              0.5555555555555556,
              "#d8576b"
             ],
             [
              0.6666666666666666,
              "#ed7953"
             ],
             [
              0.7777777777777778,
              "#fb9f3a"
             ],
             [
              0.8888888888888888,
              "#fdca26"
             ],
             [
              1,
              "#f0f921"
             ]
            ],
            "type": "surface"
           }
          ],
          "table": [
           {
            "cells": {
             "fill": {
              "color": "#EBF0F8"
             },
             "line": {
              "color": "white"
             }
            },
            "header": {
             "fill": {
              "color": "#C8D4E3"
             },
             "line": {
              "color": "white"
             }
            },
            "type": "table"
           }
          ]
         },
         "layout": {
          "annotationdefaults": {
           "arrowcolor": "#2a3f5f",
           "arrowhead": 0,
           "arrowwidth": 1
          },
          "autotypenumbers": "strict",
          "coloraxis": {
           "colorbar": {
            "outlinewidth": 0,
            "ticks": ""
           }
          },
          "colorscale": {
           "diverging": [
            [
             0,
             "#8e0152"
            ],
            [
             0.1,
             "#c51b7d"
            ],
            [
             0.2,
             "#de77ae"
            ],
            [
             0.3,
             "#f1b6da"
            ],
            [
             0.4,
             "#fde0ef"
            ],
            [
             0.5,
             "#f7f7f7"
            ],
            [
             0.6,
             "#e6f5d0"
            ],
            [
             0.7,
             "#b8e186"
            ],
            [
             0.8,
             "#7fbc41"
            ],
            [
             0.9,
             "#4d9221"
            ],
            [
             1,
             "#276419"
            ]
           ],
           "sequential": [
            [
             0,
             "#0d0887"
            ],
            [
             0.1111111111111111,
             "#46039f"
            ],
            [
             0.2222222222222222,
             "#7201a8"
            ],
            [
             0.3333333333333333,
             "#9c179e"
            ],
            [
             0.4444444444444444,
             "#bd3786"
            ],
            [
             0.5555555555555556,
             "#d8576b"
            ],
            [
             0.6666666666666666,
             "#ed7953"
            ],
            [
             0.7777777777777778,
             "#fb9f3a"
            ],
            [
             0.8888888888888888,
             "#fdca26"
            ],
            [
             1,
             "#f0f921"
            ]
           ],
           "sequentialminus": [
            [
             0,
             "#0d0887"
            ],
            [
             0.1111111111111111,
             "#46039f"
            ],
            [
             0.2222222222222222,
             "#7201a8"
            ],
            [
             0.3333333333333333,
             "#9c179e"
            ],
            [
             0.4444444444444444,
             "#bd3786"
            ],
            [
             0.5555555555555556,
             "#d8576b"
            ],
            [
             0.6666666666666666,
             "#ed7953"
            ],
            [
             0.7777777777777778,
             "#fb9f3a"
            ],
            [
             0.8888888888888888,
             "#fdca26"
            ],
            [
             1,
             "#f0f921"
            ]
           ]
          },
          "colorway": [
           "#636efa",
           "#EF553B",
           "#00cc96",
           "#ab63fa",
           "#FFA15A",
           "#19d3f3",
           "#FF6692",
           "#B6E880",
           "#FF97FF",
           "#FECB52"
          ],
          "font": {
           "color": "#2a3f5f"
          },
          "geo": {
           "bgcolor": "white",
           "lakecolor": "white",
           "landcolor": "#E5ECF6",
           "showlakes": true,
           "showland": true,
           "subunitcolor": "white"
          },
          "hoverlabel": {
           "align": "left"
          },
          "hovermode": "closest",
          "mapbox": {
           "style": "light"
          },
          "paper_bgcolor": "white",
          "plot_bgcolor": "#E5ECF6",
          "polar": {
           "angularaxis": {
            "gridcolor": "white",
            "linecolor": "white",
            "ticks": ""
           },
           "bgcolor": "#E5ECF6",
           "radialaxis": {
            "gridcolor": "white",
            "linecolor": "white",
            "ticks": ""
           }
          },
          "scene": {
           "xaxis": {
            "backgroundcolor": "#E5ECF6",
            "gridcolor": "white",
            "gridwidth": 2,
            "linecolor": "white",
            "showbackground": true,
            "ticks": "",
            "zerolinecolor": "white"
           },
           "yaxis": {
            "backgroundcolor": "#E5ECF6",
            "gridcolor": "white",
            "gridwidth": 2,
            "linecolor": "white",
            "showbackground": true,
            "ticks": "",
            "zerolinecolor": "white"
           },
           "zaxis": {
            "backgroundcolor": "#E5ECF6",
            "gridcolor": "white",
            "gridwidth": 2,
            "linecolor": "white",
            "showbackground": true,
            "ticks": "",
            "zerolinecolor": "white"
           }
          },
          "shapedefaults": {
           "line": {
            "color": "#2a3f5f"
           }
          },
          "ternary": {
           "aaxis": {
            "gridcolor": "white",
            "linecolor": "white",
            "ticks": ""
           },
           "baxis": {
            "gridcolor": "white",
            "linecolor": "white",
            "ticks": ""
           },
           "bgcolor": "#E5ECF6",
           "caxis": {
            "gridcolor": "white",
            "linecolor": "white",
            "ticks": ""
           }
          },
          "title": {
           "x": 0.05
          },
          "xaxis": {
           "automargin": true,
           "gridcolor": "white",
           "linecolor": "white",
           "ticks": "",
           "title": {
            "standoff": 15
           },
           "zerolinecolor": "white",
           "zerolinewidth": 2
          },
          "yaxis": {
           "automargin": true,
           "gridcolor": "white",
           "linecolor": "white",
           "ticks": "",
           "title": {
            "standoff": 15
           },
           "zerolinecolor": "white",
           "zerolinewidth": 2
          }
         }
        },
        "title": {
         "text": "توزیع مشتریان بر اساس امتیاز اعتباری",
         "x": 0.5,
         "xanchor": "center"
        },
        "width": 1000,
        "xaxis": {
         "tickmode": "array",
         "ticktext": [
          "350 - 365",
          "366 - 381",
          "382 - 397",
          "398 - 413",
          "414 - 429",
          "430 - 445",
          "446 - 461",
          "462 - 477",
          "478 - 493",
          "494 - 509",
          "510 - 525",
          "526 - 541",
          "542 - 557",
          "558 - 573",
          "574 - 589",
          "590 - 605",
          "606 - 621",
          "622 - 637",
          "638 - 653",
          "654 - 669",
          "670 - 685",
          "686 - 701",
          "702 - 717",
          "718 - 733",
          "734 - 749",
          "750 - 765",
          "766 - 781",
          "782 - 797",
          "798 - 813",
          "814 - 829",
          "830 - 845",
          "846 - 861"
         ],
         "tickvals": {
          "bdata": "AAAAAABgdkAAAAAAAGB3QAAAAAAAYHhAAAAAAABgeUAAAAAAAGB6QAAAAAAAYHtAAAAAAABgfEAAAAAAAGB9QAAAAAAAYH5AAAAAAABgf0AAAAAAADCAQAAAAAAAsIBAAAAAAAAwgUAAAAAAALCBQAAAAAAAMIJAAAAAAACwgkAAAAAAADCDQAAAAAAAsINAAAAAAAAwhEAAAAAAALCEQAAAAAAAMIVAAAAAAACwhUAAAAAAADCGQAAAAAAAsIZAAAAAAAAwh0AAAAAAALCHQAAAAAAAMIhAAAAAAACwiEAAAAAAADCJQAAAAAAAsIlAAAAAAAAwikAAAAAAALCKQA==",
          "dtype": "f8"
         },
         "title": {
          "text": "امتیاز اعتباری"
         }
        },
        "yaxis": {
         "title": {
          "text": "تعداد مشتریان"
         }
        }
       }
      }
     },
     "metadata": {},
     "output_type": "display_data"
    }
   ],
   "source": [
    "col = \"CreditScore\"\n",
    "title = \"توزیع مشتریان بر اساس امتیاز اعتباری\"\n",
    "xtitle = \"امتیاز اعتباری\"\n",
    "ytitle = \"تعداد مشتریان\"\n",
    "width = global_width\n",
    "hight = global_height\n",
    "draw_histogram(df, col, title, xtitle, ytitle, width, hight, \n",
    "               method='Scott', save=True)"
   ]
  },
  {
   "cell_type": "code",
   "execution_count": null,
   "id": "fb7a05f6",
   "metadata": {},
   "outputs": [
    {
     "data": {
      "application/vnd.plotly.v1+json": {
       "config": {
        "plotlyServerURL": "https://plot.ly"
       },
       "data": [
        {
         "domain": {
          "x": [
           0,
           1
          ],
          "y": [
           0,
           1
          ]
         },
         "hovertemplate": "Geography=%{label}<br>Count=%{value}<extra></extra>",
         "labels": [
          "فرانسه",
          "آلمان",
          "اسپانیا"
         ],
         "legendgroup": "",
         "name": "",
         "showlegend": true,
         "textinfo": "percent+label",
         "type": "pie",
         "values": {
          "bdata": "lhPNCa0J",
          "dtype": "i2"
         }
        }
       ],
       "layout": {
        "font": {
         "family": "Vazir FD-WOL",
         "size": 13,
         "weight": "bold"
        },
        "height": 500,
        "legend": {
         "tracegroupgap": 0
        },
        "piecolorway": [
         "#19D3F3",
         "#FFA15A",
         "#636EFA"
        ],
        "template": {
         "data": {
          "bar": [
           {
            "error_x": {
             "color": "#2a3f5f"
            },
            "error_y": {
             "color": "#2a3f5f"
            },
            "marker": {
             "line": {
              "color": "#E5ECF6",
              "width": 0.5
             },
             "pattern": {
              "fillmode": "overlay",
              "size": 10,
              "solidity": 0.2
             }
            },
            "type": "bar"
           }
          ],
          "barpolar": [
           {
            "marker": {
             "line": {
              "color": "#E5ECF6",
              "width": 0.5
             },
             "pattern": {
              "fillmode": "overlay",
              "size": 10,
              "solidity": 0.2
             }
            },
            "type": "barpolar"
           }
          ],
          "carpet": [
           {
            "aaxis": {
             "endlinecolor": "#2a3f5f",
             "gridcolor": "white",
             "linecolor": "white",
             "minorgridcolor": "white",
             "startlinecolor": "#2a3f5f"
            },
            "baxis": {
             "endlinecolor": "#2a3f5f",
             "gridcolor": "white",
             "linecolor": "white",
             "minorgridcolor": "white",
             "startlinecolor": "#2a3f5f"
            },
            "type": "carpet"
           }
          ],
          "choropleth": [
           {
            "colorbar": {
             "outlinewidth": 0,
             "ticks": ""
            },
            "type": "choropleth"
           }
          ],
          "contour": [
           {
            "colorbar": {
             "outlinewidth": 0,
             "ticks": ""
            },
            "colorscale": [
             [
              0,
              "#0d0887"
             ],
             [
              0.1111111111111111,
              "#46039f"
             ],
             [
              0.2222222222222222,
              "#7201a8"
             ],
             [
              0.3333333333333333,
              "#9c179e"
             ],
             [
              0.4444444444444444,
              "#bd3786"
             ],
             [
              0.5555555555555556,
              "#d8576b"
             ],
             [
              0.6666666666666666,
              "#ed7953"
             ],
             [
              0.7777777777777778,
              "#fb9f3a"
             ],
             [
              0.8888888888888888,
              "#fdca26"
             ],
             [
              1,
              "#f0f921"
             ]
            ],
            "type": "contour"
           }
          ],
          "contourcarpet": [
           {
            "colorbar": {
             "outlinewidth": 0,
             "ticks": ""
            },
            "type": "contourcarpet"
           }
          ],
          "heatmap": [
           {
            "colorbar": {
             "outlinewidth": 0,
             "ticks": ""
            },
            "colorscale": [
             [
              0,
              "#0d0887"
             ],
             [
              0.1111111111111111,
              "#46039f"
             ],
             [
              0.2222222222222222,
              "#7201a8"
             ],
             [
              0.3333333333333333,
              "#9c179e"
             ],
             [
              0.4444444444444444,
              "#bd3786"
             ],
             [
              0.5555555555555556,
              "#d8576b"
             ],
             [
              0.6666666666666666,
              "#ed7953"
             ],
             [
              0.7777777777777778,
              "#fb9f3a"
             ],
             [
              0.8888888888888888,
              "#fdca26"
             ],
             [
              1,
              "#f0f921"
             ]
            ],
            "type": "heatmap"
           }
          ],
          "histogram": [
           {
            "marker": {
             "pattern": {
              "fillmode": "overlay",
              "size": 10,
              "solidity": 0.2
             }
            },
            "type": "histogram"
           }
          ],
          "histogram2d": [
           {
            "colorbar": {
             "outlinewidth": 0,
             "ticks": ""
            },
            "colorscale": [
             [
              0,
              "#0d0887"
             ],
             [
              0.1111111111111111,
              "#46039f"
             ],
             [
              0.2222222222222222,
              "#7201a8"
             ],
             [
              0.3333333333333333,
              "#9c179e"
             ],
             [
              0.4444444444444444,
              "#bd3786"
             ],
             [
              0.5555555555555556,
              "#d8576b"
             ],
             [
              0.6666666666666666,
              "#ed7953"
             ],
             [
              0.7777777777777778,
              "#fb9f3a"
             ],
             [
              0.8888888888888888,
              "#fdca26"
             ],
             [
              1,
              "#f0f921"
             ]
            ],
            "type": "histogram2d"
           }
          ],
          "histogram2dcontour": [
           {
            "colorbar": {
             "outlinewidth": 0,
             "ticks": ""
            },
            "colorscale": [
             [
              0,
              "#0d0887"
             ],
             [
              0.1111111111111111,
              "#46039f"
             ],
             [
              0.2222222222222222,
              "#7201a8"
             ],
             [
              0.3333333333333333,
              "#9c179e"
             ],
             [
              0.4444444444444444,
              "#bd3786"
             ],
             [
              0.5555555555555556,
              "#d8576b"
             ],
             [
              0.6666666666666666,
              "#ed7953"
             ],
             [
              0.7777777777777778,
              "#fb9f3a"
             ],
             [
              0.8888888888888888,
              "#fdca26"
             ],
             [
              1,
              "#f0f921"
             ]
            ],
            "type": "histogram2dcontour"
           }
          ],
          "mesh3d": [
           {
            "colorbar": {
             "outlinewidth": 0,
             "ticks": ""
            },
            "type": "mesh3d"
           }
          ],
          "parcoords": [
           {
            "line": {
             "colorbar": {
              "outlinewidth": 0,
              "ticks": ""
             }
            },
            "type": "parcoords"
           }
          ],
          "pie": [
           {
            "automargin": true,
            "type": "pie"
           }
          ],
          "scatter": [
           {
            "fillpattern": {
             "fillmode": "overlay",
             "size": 10,
             "solidity": 0.2
            },
            "type": "scatter"
           }
          ],
          "scatter3d": [
           {
            "line": {
             "colorbar": {
              "outlinewidth": 0,
              "ticks": ""
             }
            },
            "marker": {
             "colorbar": {
              "outlinewidth": 0,
              "ticks": ""
             }
            },
            "type": "scatter3d"
           }
          ],
          "scattercarpet": [
           {
            "marker": {
             "colorbar": {
              "outlinewidth": 0,
              "ticks": ""
             }
            },
            "type": "scattercarpet"
           }
          ],
          "scattergeo": [
           {
            "marker": {
             "colorbar": {
              "outlinewidth": 0,
              "ticks": ""
             }
            },
            "type": "scattergeo"
           }
          ],
          "scattergl": [
           {
            "marker": {
             "colorbar": {
              "outlinewidth": 0,
              "ticks": ""
             }
            },
            "type": "scattergl"
           }
          ],
          "scattermap": [
           {
            "marker": {
             "colorbar": {
              "outlinewidth": 0,
              "ticks": ""
             }
            },
            "type": "scattermap"
           }
          ],
          "scattermapbox": [
           {
            "marker": {
             "colorbar": {
              "outlinewidth": 0,
              "ticks": ""
             }
            },
            "type": "scattermapbox"
           }
          ],
          "scatterpolar": [
           {
            "marker": {
             "colorbar": {
              "outlinewidth": 0,
              "ticks": ""
             }
            },
            "type": "scatterpolar"
           }
          ],
          "scatterpolargl": [
           {
            "marker": {
             "colorbar": {
              "outlinewidth": 0,
              "ticks": ""
             }
            },
            "type": "scatterpolargl"
           }
          ],
          "scatterternary": [
           {
            "marker": {
             "colorbar": {
              "outlinewidth": 0,
              "ticks": ""
             }
            },
            "type": "scatterternary"
           }
          ],
          "surface": [
           {
            "colorbar": {
             "outlinewidth": 0,
             "ticks": ""
            },
            "colorscale": [
             [
              0,
              "#0d0887"
             ],
             [
              0.1111111111111111,
              "#46039f"
             ],
             [
              0.2222222222222222,
              "#7201a8"
             ],
             [
              0.3333333333333333,
              "#9c179e"
             ],
             [
              0.4444444444444444,
              "#bd3786"
             ],
             [
              0.5555555555555556,
              "#d8576b"
             ],
             [
              0.6666666666666666,
              "#ed7953"
             ],
             [
              0.7777777777777778,
              "#fb9f3a"
             ],
             [
              0.8888888888888888,
              "#fdca26"
             ],
             [
              1,
              "#f0f921"
             ]
            ],
            "type": "surface"
           }
          ],
          "table": [
           {
            "cells": {
             "fill": {
              "color": "#EBF0F8"
             },
             "line": {
              "color": "white"
             }
            },
            "header": {
             "fill": {
              "color": "#C8D4E3"
             },
             "line": {
              "color": "white"
             }
            },
            "type": "table"
           }
          ]
         },
         "layout": {
          "annotationdefaults": {
           "arrowcolor": "#2a3f5f",
           "arrowhead": 0,
           "arrowwidth": 1
          },
          "autotypenumbers": "strict",
          "coloraxis": {
           "colorbar": {
            "outlinewidth": 0,
            "ticks": ""
           }
          },
          "colorscale": {
           "diverging": [
            [
             0,
             "#8e0152"
            ],
            [
             0.1,
             "#c51b7d"
            ],
            [
             0.2,
             "#de77ae"
            ],
            [
             0.3,
             "#f1b6da"
            ],
            [
             0.4,
             "#fde0ef"
            ],
            [
             0.5,
             "#f7f7f7"
            ],
            [
             0.6,
             "#e6f5d0"
            ],
            [
             0.7,
             "#b8e186"
            ],
            [
             0.8,
             "#7fbc41"
            ],
            [
             0.9,
             "#4d9221"
            ],
            [
             1,
             "#276419"
            ]
           ],
           "sequential": [
            [
             0,
             "#0d0887"
            ],
            [
             0.1111111111111111,
             "#46039f"
            ],
            [
             0.2222222222222222,
             "#7201a8"
            ],
            [
             0.3333333333333333,
             "#9c179e"
            ],
            [
             0.4444444444444444,
             "#bd3786"
            ],
            [
             0.5555555555555556,
             "#d8576b"
            ],
            [
             0.6666666666666666,
             "#ed7953"
            ],
            [
             0.7777777777777778,
             "#fb9f3a"
            ],
            [
             0.8888888888888888,
             "#fdca26"
            ],
            [
             1,
             "#f0f921"
            ]
           ],
           "sequentialminus": [
            [
             0,
             "#0d0887"
            ],
            [
             0.1111111111111111,
             "#46039f"
            ],
            [
             0.2222222222222222,
             "#7201a8"
            ],
            [
             0.3333333333333333,
             "#9c179e"
            ],
            [
             0.4444444444444444,
             "#bd3786"
            ],
            [
             0.5555555555555556,
             "#d8576b"
            ],
            [
             0.6666666666666666,
             "#ed7953"
            ],
            [
             0.7777777777777778,
             "#fb9f3a"
            ],
            [
             0.8888888888888888,
             "#fdca26"
            ],
            [
             1,
             "#f0f921"
            ]
           ]
          },
          "colorway": [
           "#636efa",
           "#EF553B",
           "#00cc96",
           "#ab63fa",
           "#FFA15A",
           "#19d3f3",
           "#FF6692",
           "#B6E880",
           "#FF97FF",
           "#FECB52"
          ],
          "font": {
           "color": "#2a3f5f"
          },
          "geo": {
           "bgcolor": "white",
           "lakecolor": "white",
           "landcolor": "#E5ECF6",
           "showlakes": true,
           "showland": true,
           "subunitcolor": "white"
          },
          "hoverlabel": {
           "align": "left"
          },
          "hovermode": "closest",
          "mapbox": {
           "style": "light"
          },
          "paper_bgcolor": "white",
          "plot_bgcolor": "#E5ECF6",
          "polar": {
           "angularaxis": {
            "gridcolor": "white",
            "linecolor": "white",
            "ticks": ""
           },
           "bgcolor": "#E5ECF6",
           "radialaxis": {
            "gridcolor": "white",
            "linecolor": "white",
            "ticks": ""
           }
          },
          "scene": {
           "xaxis": {
            "backgroundcolor": "#E5ECF6",
            "gridcolor": "white",
            "gridwidth": 2,
            "linecolor": "white",
            "showbackground": true,
            "ticks": "",
            "zerolinecolor": "white"
           },
           "yaxis": {
            "backgroundcolor": "#E5ECF6",
            "gridcolor": "white",
            "gridwidth": 2,
            "linecolor": "white",
            "showbackground": true,
            "ticks": "",
            "zerolinecolor": "white"
           },
           "zaxis": {
            "backgroundcolor": "#E5ECF6",
            "gridcolor": "white",
            "gridwidth": 2,
            "linecolor": "white",
            "showbackground": true,
            "ticks": "",
            "zerolinecolor": "white"
           }
          },
          "shapedefaults": {
           "line": {
            "color": "#2a3f5f"
           }
          },
          "ternary": {
           "aaxis": {
            "gridcolor": "white",
            "linecolor": "white",
            "ticks": ""
           },
           "baxis": {
            "gridcolor": "white",
            "linecolor": "white",
            "ticks": ""
           },
           "bgcolor": "#E5ECF6",
           "caxis": {
            "gridcolor": "white",
            "linecolor": "white",
            "ticks": ""
           }
          },
          "title": {
           "x": 0.05
          },
          "xaxis": {
           "automargin": true,
           "gridcolor": "white",
           "linecolor": "white",
           "ticks": "",
           "title": {
            "standoff": 15
           },
           "zerolinecolor": "white",
           "zerolinewidth": 2
          },
          "yaxis": {
           "automargin": true,
           "gridcolor": "white",
           "linecolor": "white",
           "ticks": "",
           "title": {
            "standoff": 15
           },
           "zerolinecolor": "white",
           "zerolinewidth": 2
          }
         }
        },
        "title": {
         "text": "سهم هر کشور از کل مشتریان",
         "x": 0.5,
         "xanchor": "center"
        },
        "width": 1000
       }
      }
     },
     "metadata": {},
     "output_type": "display_data"
    }
   ],
   "source": [
    "col = \"Geography\"\n",
    "title = \"سهم هر کشور از کل مشتریان\"\n",
    "width = global_width\n",
    "height = global_height\n",
    "custom_colors = [\n",
    "    \"#19D3F3\",\n",
    "    \"#FFA15A\",\n",
    "    \"#636EFA\"\n",
    "]\n",
    "custom_labels = {\n",
    "    \"France\": \"فرانسه\",\n",
    "    \"Germany\": \"آلمان\",\n",
    "    \"Spain\": \"اسپانیا\"\n",
    "}\n",
    "draw_pie_chart(df, col, title, width, height, \n",
    "               custom_colors=custom_colors, \n",
    "               custom_labels=custom_labels, save=True)"
   ]
  },
  {
   "cell_type": "code",
   "execution_count": null,
   "id": "19d0e681",
   "metadata": {},
   "outputs": [
    {
     "data": {
      "application/vnd.plotly.v1+json": {
       "config": {
        "plotlyServerURL": "https://plot.ly"
       },
       "data": [
        {
         "domain": {
          "x": [
           0,
           1
          ],
          "y": [
           0,
           1
          ]
         },
         "hovertemplate": "Gender=%{label}<br>Count=%{value}<extra></extra>",
         "labels": [
          "مرد",
          "زن"
         ],
         "legendgroup": "",
         "name": "",
         "showlegend": true,
         "textinfo": "percent+label",
         "type": "pie",
         "values": {
          "bdata": "URW/EQ==",
          "dtype": "i2"
         }
        }
       ],
       "layout": {
        "font": {
         "family": "Vazir FD-WOL",
         "size": 13,
         "weight": "bold"
        },
        "height": 500,
        "legend": {
         "tracegroupgap": 0
        },
        "piecolorway": [
         "#636EFA",
         "#FF6692",
         "#00CC96",
         "#FECB52",
         "#AB63FA",
         "#FFA15A",
         "#19D3F3",
         "#B6E880",
         "#FF97FF",
         "#EF553B"
        ],
        "template": {
         "data": {
          "bar": [
           {
            "error_x": {
             "color": "#2a3f5f"
            },
            "error_y": {
             "color": "#2a3f5f"
            },
            "marker": {
             "line": {
              "color": "#E5ECF6",
              "width": 0.5
             },
             "pattern": {
              "fillmode": "overlay",
              "size": 10,
              "solidity": 0.2
             }
            },
            "type": "bar"
           }
          ],
          "barpolar": [
           {
            "marker": {
             "line": {
              "color": "#E5ECF6",
              "width": 0.5
             },
             "pattern": {
              "fillmode": "overlay",
              "size": 10,
              "solidity": 0.2
             }
            },
            "type": "barpolar"
           }
          ],
          "carpet": [
           {
            "aaxis": {
             "endlinecolor": "#2a3f5f",
             "gridcolor": "white",
             "linecolor": "white",
             "minorgridcolor": "white",
             "startlinecolor": "#2a3f5f"
            },
            "baxis": {
             "endlinecolor": "#2a3f5f",
             "gridcolor": "white",
             "linecolor": "white",
             "minorgridcolor": "white",
             "startlinecolor": "#2a3f5f"
            },
            "type": "carpet"
           }
          ],
          "choropleth": [
           {
            "colorbar": {
             "outlinewidth": 0,
             "ticks": ""
            },
            "type": "choropleth"
           }
          ],
          "contour": [
           {
            "colorbar": {
             "outlinewidth": 0,
             "ticks": ""
            },
            "colorscale": [
             [
              0,
              "#0d0887"
             ],
             [
              0.1111111111111111,
              "#46039f"
             ],
             [
              0.2222222222222222,
              "#7201a8"
             ],
             [
              0.3333333333333333,
              "#9c179e"
             ],
             [
              0.4444444444444444,
              "#bd3786"
             ],
             [
              0.5555555555555556,
              "#d8576b"
             ],
             [
              0.6666666666666666,
              "#ed7953"
             ],
             [
              0.7777777777777778,
              "#fb9f3a"
             ],
             [
              0.8888888888888888,
              "#fdca26"
             ],
             [
              1,
              "#f0f921"
             ]
            ],
            "type": "contour"
           }
          ],
          "contourcarpet": [
           {
            "colorbar": {
             "outlinewidth": 0,
             "ticks": ""
            },
            "type": "contourcarpet"
           }
          ],
          "heatmap": [
           {
            "colorbar": {
             "outlinewidth": 0,
             "ticks": ""
            },
            "colorscale": [
             [
              0,
              "#0d0887"
             ],
             [
              0.1111111111111111,
              "#46039f"
             ],
             [
              0.2222222222222222,
              "#7201a8"
             ],
             [
              0.3333333333333333,
              "#9c179e"
             ],
             [
              0.4444444444444444,
              "#bd3786"
             ],
             [
              0.5555555555555556,
              "#d8576b"
             ],
             [
              0.6666666666666666,
              "#ed7953"
             ],
             [
              0.7777777777777778,
              "#fb9f3a"
             ],
             [
              0.8888888888888888,
              "#fdca26"
             ],
             [
              1,
              "#f0f921"
             ]
            ],
            "type": "heatmap"
           }
          ],
          "histogram": [
           {
            "marker": {
             "pattern": {
              "fillmode": "overlay",
              "size": 10,
              "solidity": 0.2
             }
            },
            "type": "histogram"
           }
          ],
          "histogram2d": [
           {
            "colorbar": {
             "outlinewidth": 0,
             "ticks": ""
            },
            "colorscale": [
             [
              0,
              "#0d0887"
             ],
             [
              0.1111111111111111,
              "#46039f"
             ],
             [
              0.2222222222222222,
              "#7201a8"
             ],
             [
              0.3333333333333333,
              "#9c179e"
             ],
             [
              0.4444444444444444,
              "#bd3786"
             ],
             [
              0.5555555555555556,
              "#d8576b"
             ],
             [
              0.6666666666666666,
              "#ed7953"
             ],
             [
              0.7777777777777778,
              "#fb9f3a"
             ],
             [
              0.8888888888888888,
              "#fdca26"
             ],
             [
              1,
              "#f0f921"
             ]
            ],
            "type": "histogram2d"
           }
          ],
          "histogram2dcontour": [
           {
            "colorbar": {
             "outlinewidth": 0,
             "ticks": ""
            },
            "colorscale": [
             [
              0,
              "#0d0887"
             ],
             [
              0.1111111111111111,
              "#46039f"
             ],
             [
              0.2222222222222222,
              "#7201a8"
             ],
             [
              0.3333333333333333,
              "#9c179e"
             ],
             [
              0.4444444444444444,
              "#bd3786"
             ],
             [
              0.5555555555555556,
              "#d8576b"
             ],
             [
              0.6666666666666666,
              "#ed7953"
             ],
             [
              0.7777777777777778,
              "#fb9f3a"
             ],
             [
              0.8888888888888888,
              "#fdca26"
             ],
             [
              1,
              "#f0f921"
             ]
            ],
            "type": "histogram2dcontour"
           }
          ],
          "mesh3d": [
           {
            "colorbar": {
             "outlinewidth": 0,
             "ticks": ""
            },
            "type": "mesh3d"
           }
          ],
          "parcoords": [
           {
            "line": {
             "colorbar": {
              "outlinewidth": 0,
              "ticks": ""
             }
            },
            "type": "parcoords"
           }
          ],
          "pie": [
           {
            "automargin": true,
            "type": "pie"
           }
          ],
          "scatter": [
           {
            "fillpattern": {
             "fillmode": "overlay",
             "size": 10,
             "solidity": 0.2
            },
            "type": "scatter"
           }
          ],
          "scatter3d": [
           {
            "line": {
             "colorbar": {
              "outlinewidth": 0,
              "ticks": ""
             }
            },
            "marker": {
             "colorbar": {
              "outlinewidth": 0,
              "ticks": ""
             }
            },
            "type": "scatter3d"
           }
          ],
          "scattercarpet": [
           {
            "marker": {
             "colorbar": {
              "outlinewidth": 0,
              "ticks": ""
             }
            },
            "type": "scattercarpet"
           }
          ],
          "scattergeo": [
           {
            "marker": {
             "colorbar": {
              "outlinewidth": 0,
              "ticks": ""
             }
            },
            "type": "scattergeo"
           }
          ],
          "scattergl": [
           {
            "marker": {
             "colorbar": {
              "outlinewidth": 0,
              "ticks": ""
             }
            },
            "type": "scattergl"
           }
          ],
          "scattermap": [
           {
            "marker": {
             "colorbar": {
              "outlinewidth": 0,
              "ticks": ""
             }
            },
            "type": "scattermap"
           }
          ],
          "scattermapbox": [
           {
            "marker": {
             "colorbar": {
              "outlinewidth": 0,
              "ticks": ""
             }
            },
            "type": "scattermapbox"
           }
          ],
          "scatterpolar": [
           {
            "marker": {
             "colorbar": {
              "outlinewidth": 0,
              "ticks": ""
             }
            },
            "type": "scatterpolar"
           }
          ],
          "scatterpolargl": [
           {
            "marker": {
             "colorbar": {
              "outlinewidth": 0,
              "ticks": ""
             }
            },
            "type": "scatterpolargl"
           }
          ],
          "scatterternary": [
           {
            "marker": {
             "colorbar": {
              "outlinewidth": 0,
              "ticks": ""
             }
            },
            "type": "scatterternary"
           }
          ],
          "surface": [
           {
            "colorbar": {
             "outlinewidth": 0,
             "ticks": ""
            },
            "colorscale": [
             [
              0,
              "#0d0887"
             ],
             [
              0.1111111111111111,
              "#46039f"
             ],
             [
              0.2222222222222222,
              "#7201a8"
             ],
             [
              0.3333333333333333,
              "#9c179e"
             ],
             [
              0.4444444444444444,
              "#bd3786"
             ],
             [
              0.5555555555555556,
              "#d8576b"
             ],
             [
              0.6666666666666666,
              "#ed7953"
             ],
             [
              0.7777777777777778,
              "#fb9f3a"
             ],
             [
              0.8888888888888888,
              "#fdca26"
             ],
             [
              1,
              "#f0f921"
             ]
            ],
            "type": "surface"
           }
          ],
          "table": [
           {
            "cells": {
             "fill": {
              "color": "#EBF0F8"
             },
             "line": {
              "color": "white"
             }
            },
            "header": {
             "fill": {
              "color": "#C8D4E3"
             },
             "line": {
              "color": "white"
             }
            },
            "type": "table"
           }
          ]
         },
         "layout": {
          "annotationdefaults": {
           "arrowcolor": "#2a3f5f",
           "arrowhead": 0,
           "arrowwidth": 1
          },
          "autotypenumbers": "strict",
          "coloraxis": {
           "colorbar": {
            "outlinewidth": 0,
            "ticks": ""
           }
          },
          "colorscale": {
           "diverging": [
            [
             0,
             "#8e0152"
            ],
            [
             0.1,
             "#c51b7d"
            ],
            [
             0.2,
             "#de77ae"
            ],
            [
             0.3,
             "#f1b6da"
            ],
            [
             0.4,
             "#fde0ef"
            ],
            [
             0.5,
             "#f7f7f7"
            ],
            [
             0.6,
             "#e6f5d0"
            ],
            [
             0.7,
             "#b8e186"
            ],
            [
             0.8,
             "#7fbc41"
            ],
            [
             0.9,
             "#4d9221"
            ],
            [
             1,
             "#276419"
            ]
           ],
           "sequential": [
            [
             0,
             "#0d0887"
            ],
            [
             0.1111111111111111,
             "#46039f"
            ],
            [
             0.2222222222222222,
             "#7201a8"
            ],
            [
             0.3333333333333333,
             "#9c179e"
            ],
            [
             0.4444444444444444,
             "#bd3786"
            ],
            [
             0.5555555555555556,
             "#d8576b"
            ],
            [
             0.6666666666666666,
             "#ed7953"
            ],
            [
             0.7777777777777778,
             "#fb9f3a"
            ],
            [
             0.8888888888888888,
             "#fdca26"
            ],
            [
             1,
             "#f0f921"
            ]
           ],
           "sequentialminus": [
            [
             0,
             "#0d0887"
            ],
            [
             0.1111111111111111,
             "#46039f"
            ],
            [
             0.2222222222222222,
             "#7201a8"
            ],
            [
             0.3333333333333333,
             "#9c179e"
            ],
            [
             0.4444444444444444,
             "#bd3786"
            ],
            [
             0.5555555555555556,
             "#d8576b"
            ],
            [
             0.6666666666666666,
             "#ed7953"
            ],
            [
             0.7777777777777778,
             "#fb9f3a"
            ],
            [
             0.8888888888888888,
             "#fdca26"
            ],
            [
             1,
             "#f0f921"
            ]
           ]
          },
          "colorway": [
           "#636efa",
           "#EF553B",
           "#00cc96",
           "#ab63fa",
           "#FFA15A",
           "#19d3f3",
           "#FF6692",
           "#B6E880",
           "#FF97FF",
           "#FECB52"
          ],
          "font": {
           "color": "#2a3f5f"
          },
          "geo": {
           "bgcolor": "white",
           "lakecolor": "white",
           "landcolor": "#E5ECF6",
           "showlakes": true,
           "showland": true,
           "subunitcolor": "white"
          },
          "hoverlabel": {
           "align": "left"
          },
          "hovermode": "closest",
          "mapbox": {
           "style": "light"
          },
          "paper_bgcolor": "white",
          "plot_bgcolor": "#E5ECF6",
          "polar": {
           "angularaxis": {
            "gridcolor": "white",
            "linecolor": "white",
            "ticks": ""
           },
           "bgcolor": "#E5ECF6",
           "radialaxis": {
            "gridcolor": "white",
            "linecolor": "white",
            "ticks": ""
           }
          },
          "scene": {
           "xaxis": {
            "backgroundcolor": "#E5ECF6",
            "gridcolor": "white",
            "gridwidth": 2,
            "linecolor": "white",
            "showbackground": true,
            "ticks": "",
            "zerolinecolor": "white"
           },
           "yaxis": {
            "backgroundcolor": "#E5ECF6",
            "gridcolor": "white",
            "gridwidth": 2,
            "linecolor": "white",
            "showbackground": true,
            "ticks": "",
            "zerolinecolor": "white"
           },
           "zaxis": {
            "backgroundcolor": "#E5ECF6",
            "gridcolor": "white",
            "gridwidth": 2,
            "linecolor": "white",
            "showbackground": true,
            "ticks": "",
            "zerolinecolor": "white"
           }
          },
          "shapedefaults": {
           "line": {
            "color": "#2a3f5f"
           }
          },
          "ternary": {
           "aaxis": {
            "gridcolor": "white",
            "linecolor": "white",
            "ticks": ""
           },
           "baxis": {
            "gridcolor": "white",
            "linecolor": "white",
            "ticks": ""
           },
           "bgcolor": "#E5ECF6",
           "caxis": {
            "gridcolor": "white",
            "linecolor": "white",
            "ticks": ""
           }
          },
          "title": {
           "x": 0.05
          },
          "xaxis": {
           "automargin": true,
           "gridcolor": "white",
           "linecolor": "white",
           "ticks": "",
           "title": {
            "standoff": 15
           },
           "zerolinecolor": "white",
           "zerolinewidth": 2
          },
          "yaxis": {
           "automargin": true,
           "gridcolor": "white",
           "linecolor": "white",
           "ticks": "",
           "title": {
            "standoff": 15
           },
           "zerolinecolor": "white",
           "zerolinewidth": 2
          }
         }
        },
        "title": {
         "text": "سهم جنسیت ها از کل مشتریان",
         "x": 0.5,
         "xanchor": "center"
        },
        "width": 1000
       }
      }
     },
     "metadata": {},
     "output_type": "display_data"
    }
   ],
   "source": [
    "col = \"Gender\"\n",
    "title = \"سهم جنسیت ها از کل مشتریان\"\n",
    "width = global_width\n",
    "height = global_height\n",
    "custom_labels = {\n",
    "    \"Male\": \"مرد\",\n",
    "    \"Female\": \"زن\"\n",
    "}\n",
    "draw_pie_chart(df, col, title, width, height, \n",
    "               custom_labels=custom_labels, save=True)"
   ]
  },
  {
   "cell_type": "code",
   "execution_count": null,
   "id": "213c7b58",
   "metadata": {},
   "outputs": [
    {
     "data": {
      "application/vnd.plotly.v1+json": {
       "config": {
        "plotlyServerURL": "https://plot.ly"
       },
       "data": [
        {
         "marker": {
          "color": "skyblue",
          "line": {
           "color": "black",
           "width": 0.5
          }
         },
         "opacity": 0.8,
         "type": "histogram",
         "x": {
          "bdata": "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",
          "dtype": "i1"
         },
         "xbins": {
          "end": 97,
          "size": 5,
          "start": 18
         }
        }
       ],
       "layout": {
        "bargap": 0.1,
        "font": {
         "family": "Vazir FD-WOL",
         "size": 13,
         "weight": "bold"
        },
        "height": 500,
        "template": {
         "data": {
          "bar": [
           {
            "error_x": {
             "color": "#2a3f5f"
            },
            "error_y": {
             "color": "#2a3f5f"
            },
            "marker": {
             "line": {
              "color": "#E5ECF6",
              "width": 0.5
             },
             "pattern": {
              "fillmode": "overlay",
              "size": 10,
              "solidity": 0.2
             }
            },
            "type": "bar"
           }
          ],
          "barpolar": [
           {
            "marker": {
             "line": {
              "color": "#E5ECF6",
              "width": 0.5
             },
             "pattern": {
              "fillmode": "overlay",
              "size": 10,
              "solidity": 0.2
             }
            },
            "type": "barpolar"
           }
          ],
          "carpet": [
           {
            "aaxis": {
             "endlinecolor": "#2a3f5f",
             "gridcolor": "white",
             "linecolor": "white",
             "minorgridcolor": "white",
             "startlinecolor": "#2a3f5f"
            },
            "baxis": {
             "endlinecolor": "#2a3f5f",
             "gridcolor": "white",
             "linecolor": "white",
             "minorgridcolor": "white",
             "startlinecolor": "#2a3f5f"
            },
            "type": "carpet"
           }
          ],
          "choropleth": [
           {
            "colorbar": {
             "outlinewidth": 0,
             "ticks": ""
            },
            "type": "choropleth"
           }
          ],
          "contour": [
           {
            "colorbar": {
             "outlinewidth": 0,
             "ticks": ""
            },
            "colorscale": [
             [
              0,
              "#0d0887"
             ],
             [
              0.1111111111111111,
              "#46039f"
             ],
             [
              0.2222222222222222,
              "#7201a8"
             ],
             [
              0.3333333333333333,
              "#9c179e"
             ],
             [
              0.4444444444444444,
              "#bd3786"
             ],
             [
              0.5555555555555556,
              "#d8576b"
             ],
             [
              0.6666666666666666,
              "#ed7953"
             ],
             [
              0.7777777777777778,
              "#fb9f3a"
             ],
             [
              0.8888888888888888,
              "#fdca26"
             ],
             [
              1,
              "#f0f921"
             ]
            ],
            "type": "contour"
           }
          ],
          "contourcarpet": [
           {
            "colorbar": {
             "outlinewidth": 0,
             "ticks": ""
            },
            "type": "contourcarpet"
           }
          ],
          "heatmap": [
           {
            "colorbar": {
             "outlinewidth": 0,
             "ticks": ""
            },
            "colorscale": [
             [
              0,
              "#0d0887"
             ],
             [
              0.1111111111111111,
              "#46039f"
             ],
             [
              0.2222222222222222,
              "#7201a8"
             ],
             [
              0.3333333333333333,
              "#9c179e"
             ],
             [
              0.4444444444444444,
              "#bd3786"
             ],
             [
              0.5555555555555556,
              "#d8576b"
             ],
             [
              0.6666666666666666,
              "#ed7953"
             ],
             [
              0.7777777777777778,
              "#fb9f3a"
             ],
             [
              0.8888888888888888,
              "#fdca26"
             ],
             [
              1,
              "#f0f921"
             ]
            ],
            "type": "heatmap"
           }
          ],
          "histogram": [
           {
            "marker": {
             "pattern": {
              "fillmode": "overlay",
              "size": 10,
              "solidity": 0.2
             }
            },
            "type": "histogram"
           }
          ],
          "histogram2d": [
           {
            "colorbar": {
             "outlinewidth": 0,
             "ticks": ""
            },
            "colorscale": [
             [
              0,
              "#0d0887"
             ],
             [
              0.1111111111111111,
              "#46039f"
             ],
             [
              0.2222222222222222,
              "#7201a8"
             ],
             [
              0.3333333333333333,
              "#9c179e"
             ],
             [
              0.4444444444444444,
              "#bd3786"
             ],
             [
              0.5555555555555556,
              "#d8576b"
             ],
             [
              0.6666666666666666,
              "#ed7953"
             ],
             [
              0.7777777777777778,
              "#fb9f3a"
             ],
             [
              0.8888888888888888,
              "#fdca26"
             ],
             [
              1,
              "#f0f921"
             ]
            ],
            "type": "histogram2d"
           }
          ],
          "histogram2dcontour": [
           {
            "colorbar": {
             "outlinewidth": 0,
             "ticks": ""
            },
            "colorscale": [
             [
              0,
              "#0d0887"
             ],
             [
              0.1111111111111111,
              "#46039f"
             ],
             [
              0.2222222222222222,
              "#7201a8"
             ],
             [
              0.3333333333333333,
              "#9c179e"
             ],
             [
              0.4444444444444444,
              "#bd3786"
             ],
             [
              0.5555555555555556,
              "#d8576b"
             ],
             [
              0.6666666666666666,
              "#ed7953"
             ],
             [
              0.7777777777777778,
              "#fb9f3a"
             ],
             [
              0.8888888888888888,
              "#fdca26"
             ],
             [
              1,
              "#f0f921"
             ]
            ],
            "type": "histogram2dcontour"
           }
          ],
          "mesh3d": [
           {
            "colorbar": {
             "outlinewidth": 0,
             "ticks": ""
            },
            "type": "mesh3d"
           }
          ],
          "parcoords": [
           {
            "line": {
             "colorbar": {
              "outlinewidth": 0,
              "ticks": ""
             }
            },
            "type": "parcoords"
           }
          ],
          "pie": [
           {
            "automargin": true,
            "type": "pie"
           }
          ],
          "scatter": [
           {
            "fillpattern": {
             "fillmode": "overlay",
             "size": 10,
             "solidity": 0.2
            },
            "type": "scatter"
           }
          ],
          "scatter3d": [
           {
            "line": {
             "colorbar": {
              "outlinewidth": 0,
              "ticks": ""
             }
            },
            "marker": {
             "colorbar": {
              "outlinewidth": 0,
              "ticks": ""
             }
            },
            "type": "scatter3d"
           }
          ],
          "scattercarpet": [
           {
            "marker": {
             "colorbar": {
              "outlinewidth": 0,
              "ticks": ""
             }
            },
            "type": "scattercarpet"
           }
          ],
          "scattergeo": [
           {
            "marker": {
             "colorbar": {
              "outlinewidth": 0,
              "ticks": ""
             }
            },
            "type": "scattergeo"
           }
          ],
          "scattergl": [
           {
            "marker": {
             "colorbar": {
              "outlinewidth": 0,
              "ticks": ""
             }
            },
            "type": "scattergl"
           }
          ],
          "scattermap": [
           {
            "marker": {
             "colorbar": {
              "outlinewidth": 0,
              "ticks": ""
             }
            },
            "type": "scattermap"
           }
          ],
          "scattermapbox": [
           {
            "marker": {
             "colorbar": {
              "outlinewidth": 0,
              "ticks": ""
             }
            },
            "type": "scattermapbox"
           }
          ],
          "scatterpolar": [
           {
            "marker": {
             "colorbar": {
              "outlinewidth": 0,
              "ticks": ""
             }
            },
            "type": "scatterpolar"
           }
          ],
          "scatterpolargl": [
           {
            "marker": {
             "colorbar": {
              "outlinewidth": 0,
              "ticks": ""
             }
            },
            "type": "scatterpolargl"
           }
          ],
          "scatterternary": [
           {
            "marker": {
             "colorbar": {
              "outlinewidth": 0,
              "ticks": ""
             }
            },
            "type": "scatterternary"
           }
          ],
          "surface": [
           {
            "colorbar": {
             "outlinewidth": 0,
             "ticks": ""
            },
            "colorscale": [
             [
              0,
              "#0d0887"
             ],
             [
              0.1111111111111111,
              "#46039f"
             ],
             [
              0.2222222222222222,
              "#7201a8"
             ],
             [
              0.3333333333333333,
              "#9c179e"
             ],
             [
              0.4444444444444444,
              "#bd3786"
             ],
             [
              0.5555555555555556,
              "#d8576b"
             ],
             [
              0.6666666666666666,
              "#ed7953"
             ],
             [
              0.7777777777777778,
              "#fb9f3a"
             ],
             [
              0.8888888888888888,
              "#fdca26"
             ],
             [
              1,
              "#f0f921"
             ]
            ],
            "type": "surface"
           }
          ],
          "table": [
           {
            "cells": {
             "fill": {
              "color": "#EBF0F8"
             },
             "line": {
              "color": "white"
             }
            },
            "header": {
             "fill": {
              "color": "#C8D4E3"
             },
             "line": {
              "color": "white"
             }
            },
            "type": "table"
           }
          ]
         },
         "layout": {
          "annotationdefaults": {
           "arrowcolor": "#2a3f5f",
           "arrowhead": 0,
           "arrowwidth": 1
          },
          "autotypenumbers": "strict",
          "coloraxis": {
           "colorbar": {
            "outlinewidth": 0,
            "ticks": ""
           }
          },
          "colorscale": {
           "diverging": [
            [
             0,
             "#8e0152"
            ],
            [
             0.1,
             "#c51b7d"
            ],
            [
             0.2,
             "#de77ae"
            ],
            [
             0.3,
             "#f1b6da"
            ],
            [
             0.4,
             "#fde0ef"
            ],
            [
             0.5,
             "#f7f7f7"
            ],
            [
             0.6,
             "#e6f5d0"
            ],
            [
             0.7,
             "#b8e186"
            ],
            [
             0.8,
             "#7fbc41"
            ],
            [
             0.9,
             "#4d9221"
            ],
            [
             1,
             "#276419"
            ]
           ],
           "sequential": [
            [
             0,
             "#0d0887"
            ],
            [
             0.1111111111111111,
             "#46039f"
            ],
            [
             0.2222222222222222,
             "#7201a8"
            ],
            [
             0.3333333333333333,
             "#9c179e"
            ],
            [
             0.4444444444444444,
             "#bd3786"
            ],
            [
             0.5555555555555556,
             "#d8576b"
            ],
            [
             0.6666666666666666,
             "#ed7953"
            ],
            [
             0.7777777777777778,
             "#fb9f3a"
            ],
            [
             0.8888888888888888,
             "#fdca26"
            ],
            [
             1,
             "#f0f921"
            ]
           ],
           "sequentialminus": [
            [
             0,
             "#0d0887"
            ],
            [
             0.1111111111111111,
             "#46039f"
            ],
            [
             0.2222222222222222,
             "#7201a8"
            ],
            [
             0.3333333333333333,
             "#9c179e"
            ],
            [
             0.4444444444444444,
             "#bd3786"
            ],
            [
             0.5555555555555556,
             "#d8576b"
            ],
            [
             0.6666666666666666,
             "#ed7953"
            ],
            [
             0.7777777777777778,
             "#fb9f3a"
            ],
            [
             0.8888888888888888,
             "#fdca26"
            ],
            [
             1,
             "#f0f921"
            ]
           ]
          },
          "colorway": [
           "#636efa",
           "#EF553B",
           "#00cc96",
           "#ab63fa",
           "#FFA15A",
           "#19d3f3",
           "#FF6692",
           "#B6E880",
           "#FF97FF",
           "#FECB52"
          ],
          "font": {
           "color": "#2a3f5f"
          },
          "geo": {
           "bgcolor": "white",
           "lakecolor": "white",
           "landcolor": "#E5ECF6",
           "showlakes": true,
           "showland": true,
           "subunitcolor": "white"
          },
          "hoverlabel": {
           "align": "left"
          },
          "hovermode": "closest",
          "mapbox": {
           "style": "light"
          },
          "paper_bgcolor": "white",
          "plot_bgcolor": "#E5ECF6",
          "polar": {
           "angularaxis": {
            "gridcolor": "white",
            "linecolor": "white",
            "ticks": ""
           },
           "bgcolor": "#E5ECF6",
           "radialaxis": {
            "gridcolor": "white",
            "linecolor": "white",
            "ticks": ""
           }
          },
          "scene": {
           "xaxis": {
            "backgroundcolor": "#E5ECF6",
            "gridcolor": "white",
            "gridwidth": 2,
            "linecolor": "white",
            "showbackground": true,
            "ticks": "",
            "zerolinecolor": "white"
           },
           "yaxis": {
            "backgroundcolor": "#E5ECF6",
            "gridcolor": "white",
            "gridwidth": 2,
            "linecolor": "white",
            "showbackground": true,
            "ticks": "",
            "zerolinecolor": "white"
           },
           "zaxis": {
            "backgroundcolor": "#E5ECF6",
            "gridcolor": "white",
            "gridwidth": 2,
            "linecolor": "white",
            "showbackground": true,
            "ticks": "",
            "zerolinecolor": "white"
           }
          },
          "shapedefaults": {
           "line": {
            "color": "#2a3f5f"
           }
          },
          "ternary": {
           "aaxis": {
            "gridcolor": "white",
            "linecolor": "white",
            "ticks": ""
           },
           "baxis": {
            "gridcolor": "white",
            "linecolor": "white",
            "ticks": ""
           },
           "bgcolor": "#E5ECF6",
           "caxis": {
            "gridcolor": "white",
            "linecolor": "white",
            "ticks": ""
           }
          },
          "title": {
           "x": 0.05
          },
          "xaxis": {
           "automargin": true,
           "gridcolor": "white",
           "linecolor": "white",
           "ticks": "",
           "title": {
            "standoff": 15
           },
           "zerolinecolor": "white",
           "zerolinewidth": 2
          },
          "yaxis": {
           "automargin": true,
           "gridcolor": "white",
           "linecolor": "white",
           "ticks": "",
           "title": {
            "standoff": 15
           },
           "zerolinecolor": "white",
           "zerolinewidth": 2
          }
         }
        },
        "title": {
         "text": "توزیع مشتریان بر اساس سن",
         "x": 0.5,
         "xanchor": "center"
        },
        "width": 1000,
        "xaxis": {
         "tickmode": "array",
         "ticktext": [
          "18 - 22",
          "23 - 27",
          "28 - 32",
          "33 - 37",
          "38 - 42",
          "43 - 47",
          "48 - 52",
          "53 - 57",
          "58 - 62",
          "63 - 67",
          "68 - 72",
          "73 - 77",
          "78 - 82",
          "83 - 87",
          "88 - 92"
         ],
         "tickvals": {
          "bdata": "AAAAAACANEAAAAAAAIA5QAAAAAAAgD5AAAAAAADAQUAAAAAAAEBEQAAAAAAAwEZAAAAAAABASUAAAAAAAMBLQAAAAAAAQE5AAAAAAABgUEAAAAAAAKBRQAAAAAAA4FJAAAAAAAAgVEAAAAAAAGBVQAAAAAAAoFZA",
          "dtype": "f8"
         },
         "title": {
          "text": "سن"
         }
        },
        "yaxis": {
         "title": {
          "text": "تعداد مشتریان"
         }
        }
       }
      }
     },
     "metadata": {},
     "output_type": "display_data"
    }
   ],
   "source": [
    "col = \"Age\"\n",
    "title = \"توزیع مشتریان بر اساس سن\"\n",
    "xtitle = \"سن\"\n",
    "ytitle = \"تعداد مشتریان\"\n",
    "width = global_width\n",
    "hight = global_height\n",
    "draw_histogram(df, col, title, xtitle, ytitle, width, hight, \n",
    "               method='Sturges', save=True)"
   ]
  },
  {
   "cell_type": "code",
   "execution_count": null,
   "id": "a2fb3618",
   "metadata": {},
   "outputs": [
    {
     "data": {
      "application/vnd.plotly.v1+json": {
       "config": {
        "plotlyServerURL": "https://plot.ly"
       },
       "data": [
        {
         "hovertemplate": "Tenure=%{x}<br>Count=%{y}<extra></extra>",
         "legendgroup": "",
         "marker": {
          "color": "skyblue",
          "line": {
           "color": "black",
           "width": 0.5
          },
          "pattern": {
           "shape": ""
          }
         },
         "name": "",
         "opacity": 0.8,
         "orientation": "v",
         "showlegend": false,
         "textposition": "auto",
         "type": "bar",
         "x": {
          "bdata": "AgEHCAUDBAkGCgA=",
          "dtype": "i1"
         },
         "xaxis": "x",
         "y": {
          "bdata": "GAQLBAQEAQT0A/ED3QPYA8cD6gGdAQ==",
          "dtype": "i2"
         },
         "yaxis": "y"
        }
       ],
       "layout": {
        "barmode": "relative",
        "font": {
         "family": "Vazir FD-WOL",
         "size": 13,
         "weight": "bold"
        },
        "height": 500,
        "legend": {
         "tracegroupgap": 0
        },
        "margin": {
         "t": 60
        },
        "template": {
         "data": {
          "bar": [
           {
            "error_x": {
             "color": "#2a3f5f"
            },
            "error_y": {
             "color": "#2a3f5f"
            },
            "marker": {
             "line": {
              "color": "#E5ECF6",
              "width": 0.5
             },
             "pattern": {
              "fillmode": "overlay",
              "size": 10,
              "solidity": 0.2
             }
            },
            "type": "bar"
           }
          ],
          "barpolar": [
           {
            "marker": {
             "line": {
              "color": "#E5ECF6",
              "width": 0.5
             },
             "pattern": {
              "fillmode": "overlay",
              "size": 10,
              "solidity": 0.2
             }
            },
            "type": "barpolar"
           }
          ],
          "carpet": [
           {
            "aaxis": {
             "endlinecolor": "#2a3f5f",
             "gridcolor": "white",
             "linecolor": "white",
             "minorgridcolor": "white",
             "startlinecolor": "#2a3f5f"
            },
            "baxis": {
             "endlinecolor": "#2a3f5f",
             "gridcolor": "white",
             "linecolor": "white",
             "minorgridcolor": "white",
             "startlinecolor": "#2a3f5f"
            },
            "type": "carpet"
           }
          ],
          "choropleth": [
           {
            "colorbar": {
             "outlinewidth": 0,
             "ticks": ""
            },
            "type": "choropleth"
           }
          ],
          "contour": [
           {
            "colorbar": {
             "outlinewidth": 0,
             "ticks": ""
            },
            "colorscale": [
             [
              0,
              "#0d0887"
             ],
             [
              0.1111111111111111,
              "#46039f"
             ],
             [
              0.2222222222222222,
              "#7201a8"
             ],
             [
              0.3333333333333333,
              "#9c179e"
             ],
             [
              0.4444444444444444,
              "#bd3786"
             ],
             [
              0.5555555555555556,
              "#d8576b"
             ],
             [
              0.6666666666666666,
              "#ed7953"
             ],
             [
              0.7777777777777778,
              "#fb9f3a"
             ],
             [
              0.8888888888888888,
              "#fdca26"
             ],
             [
              1,
              "#f0f921"
             ]
            ],
            "type": "contour"
           }
          ],
          "contourcarpet": [
           {
            "colorbar": {
             "outlinewidth": 0,
             "ticks": ""
            },
            "type": "contourcarpet"
           }
          ],
          "heatmap": [
           {
            "colorbar": {
             "outlinewidth": 0,
             "ticks": ""
            },
            "colorscale": [
             [
              0,
              "#0d0887"
             ],
             [
              0.1111111111111111,
              "#46039f"
             ],
             [
              0.2222222222222222,
              "#7201a8"
             ],
             [
              0.3333333333333333,
              "#9c179e"
             ],
             [
              0.4444444444444444,
              "#bd3786"
             ],
             [
              0.5555555555555556,
              "#d8576b"
             ],
             [
              0.6666666666666666,
              "#ed7953"
             ],
             [
              0.7777777777777778,
              "#fb9f3a"
             ],
             [
              0.8888888888888888,
              "#fdca26"
             ],
             [
              1,
              "#f0f921"
             ]
            ],
            "type": "heatmap"
           }
          ],
          "histogram": [
           {
            "marker": {
             "pattern": {
              "fillmode": "overlay",
              "size": 10,
              "solidity": 0.2
             }
            },
            "type": "histogram"
           }
          ],
          "histogram2d": [
           {
            "colorbar": {
             "outlinewidth": 0,
             "ticks": ""
            },
            "colorscale": [
             [
              0,
              "#0d0887"
             ],
             [
              0.1111111111111111,
              "#46039f"
             ],
             [
              0.2222222222222222,
              "#7201a8"
             ],
             [
              0.3333333333333333,
              "#9c179e"
             ],
             [
              0.4444444444444444,
              "#bd3786"
             ],
             [
              0.5555555555555556,
              "#d8576b"
             ],
             [
              0.6666666666666666,
              "#ed7953"
             ],
             [
              0.7777777777777778,
              "#fb9f3a"
             ],
             [
              0.8888888888888888,
              "#fdca26"
             ],
             [
              1,
              "#f0f921"
             ]
            ],
            "type": "histogram2d"
           }
          ],
          "histogram2dcontour": [
           {
            "colorbar": {
             "outlinewidth": 0,
             "ticks": ""
            },
            "colorscale": [
             [
              0,
              "#0d0887"
             ],
             [
              0.1111111111111111,
              "#46039f"
             ],
             [
              0.2222222222222222,
              "#7201a8"
             ],
             [
              0.3333333333333333,
              "#9c179e"
             ],
             [
              0.4444444444444444,
              "#bd3786"
             ],
             [
              0.5555555555555556,
              "#d8576b"
             ],
             [
              0.6666666666666666,
              "#ed7953"
             ],
             [
              0.7777777777777778,
              "#fb9f3a"
             ],
             [
              0.8888888888888888,
              "#fdca26"
             ],
             [
              1,
              "#f0f921"
             ]
            ],
            "type": "histogram2dcontour"
           }
          ],
          "mesh3d": [
           {
            "colorbar": {
             "outlinewidth": 0,
             "ticks": ""
            },
            "type": "mesh3d"
           }
          ],
          "parcoords": [
           {
            "line": {
             "colorbar": {
              "outlinewidth": 0,
              "ticks": ""
             }
            },
            "type": "parcoords"
           }
          ],
          "pie": [
           {
            "automargin": true,
            "type": "pie"
           }
          ],
          "scatter": [
           {
            "fillpattern": {
             "fillmode": "overlay",
             "size": 10,
             "solidity": 0.2
            },
            "type": "scatter"
           }
          ],
          "scatter3d": [
           {
            "line": {
             "colorbar": {
              "outlinewidth": 0,
              "ticks": ""
             }
            },
            "marker": {
             "colorbar": {
              "outlinewidth": 0,
              "ticks": ""
             }
            },
            "type": "scatter3d"
           }
          ],
          "scattercarpet": [
           {
            "marker": {
             "colorbar": {
              "outlinewidth": 0,
              "ticks": ""
             }
            },
            "type": "scattercarpet"
           }
          ],
          "scattergeo": [
           {
            "marker": {
             "colorbar": {
              "outlinewidth": 0,
              "ticks": ""
             }
            },
            "type": "scattergeo"
           }
          ],
          "scattergl": [
           {
            "marker": {
             "colorbar": {
              "outlinewidth": 0,
              "ticks": ""
             }
            },
            "type": "scattergl"
           }
          ],
          "scattermap": [
           {
            "marker": {
             "colorbar": {
              "outlinewidth": 0,
              "ticks": ""
             }
            },
            "type": "scattermap"
           }
          ],
          "scattermapbox": [
           {
            "marker": {
             "colorbar": {
              "outlinewidth": 0,
              "ticks": ""
             }
            },
            "type": "scattermapbox"
           }
          ],
          "scatterpolar": [
           {
            "marker": {
             "colorbar": {
              "outlinewidth": 0,
              "ticks": ""
             }
            },
            "type": "scatterpolar"
           }
          ],
          "scatterpolargl": [
           {
            "marker": {
             "colorbar": {
              "outlinewidth": 0,
              "ticks": ""
             }
            },
            "type": "scatterpolargl"
           }
          ],
          "scatterternary": [
           {
            "marker": {
             "colorbar": {
              "outlinewidth": 0,
              "ticks": ""
             }
            },
            "type": "scatterternary"
           }
          ],
          "surface": [
           {
            "colorbar": {
             "outlinewidth": 0,
             "ticks": ""
            },
            "colorscale": [
             [
              0,
              "#0d0887"
             ],
             [
              0.1111111111111111,
              "#46039f"
             ],
             [
              0.2222222222222222,
              "#7201a8"
             ],
             [
              0.3333333333333333,
              "#9c179e"
             ],
             [
              0.4444444444444444,
              "#bd3786"
             ],
             [
              0.5555555555555556,
              "#d8576b"
             ],
             [
              0.6666666666666666,
              "#ed7953"
             ],
             [
              0.7777777777777778,
              "#fb9f3a"
             ],
             [
              0.8888888888888888,
              "#fdca26"
             ],
             [
              1,
              "#f0f921"
             ]
            ],
            "type": "surface"
           }
          ],
          "table": [
           {
            "cells": {
             "fill": {
              "color": "#EBF0F8"
             },
             "line": {
              "color": "white"
             }
            },
            "header": {
             "fill": {
              "color": "#C8D4E3"
             },
             "line": {
              "color": "white"
             }
            },
            "type": "table"
           }
          ]
         },
         "layout": {
          "annotationdefaults": {
           "arrowcolor": "#2a3f5f",
           "arrowhead": 0,
           "arrowwidth": 1
          },
          "autotypenumbers": "strict",
          "coloraxis": {
           "colorbar": {
            "outlinewidth": 0,
            "ticks": ""
           }
          },
          "colorscale": {
           "diverging": [
            [
             0,
             "#8e0152"
            ],
            [
             0.1,
             "#c51b7d"
            ],
            [
             0.2,
             "#de77ae"
            ],
            [
             0.3,
             "#f1b6da"
            ],
            [
             0.4,
             "#fde0ef"
            ],
            [
             0.5,
             "#f7f7f7"
            ],
            [
             0.6,
             "#e6f5d0"
            ],
            [
             0.7,
             "#b8e186"
            ],
            [
             0.8,
             "#7fbc41"
            ],
            [
             0.9,
             "#4d9221"
            ],
            [
             1,
             "#276419"
            ]
           ],
           "sequential": [
            [
             0,
             "#0d0887"
            ],
            [
             0.1111111111111111,
             "#46039f"
            ],
            [
             0.2222222222222222,
             "#7201a8"
            ],
            [
             0.3333333333333333,
             "#9c179e"
            ],
            [
             0.4444444444444444,
             "#bd3786"
            ],
            [
             0.5555555555555556,
             "#d8576b"
            ],
            [
             0.6666666666666666,
             "#ed7953"
            ],
            [
             0.7777777777777778,
             "#fb9f3a"
            ],
            [
             0.8888888888888888,
             "#fdca26"
            ],
            [
             1,
             "#f0f921"
            ]
           ],
           "sequentialminus": [
            [
             0,
             "#0d0887"
            ],
            [
             0.1111111111111111,
             "#46039f"
            ],
            [
             0.2222222222222222,
             "#7201a8"
            ],
            [
             0.3333333333333333,
             "#9c179e"
            ],
            [
             0.4444444444444444,
             "#bd3786"
            ],
            [
             0.5555555555555556,
             "#d8576b"
            ],
            [
             0.6666666666666666,
             "#ed7953"
            ],
            [
             0.7777777777777778,
             "#fb9f3a"
            ],
            [
             0.8888888888888888,
             "#fdca26"
            ],
            [
             1,
             "#f0f921"
            ]
           ]
          },
          "colorway": [
           "#636efa",
           "#EF553B",
           "#00cc96",
           "#ab63fa",
           "#FFA15A",
           "#19d3f3",
           "#FF6692",
           "#B6E880",
           "#FF97FF",
           "#FECB52"
          ],
          "font": {
           "color": "#2a3f5f"
          },
          "geo": {
           "bgcolor": "white",
           "lakecolor": "white",
           "landcolor": "#E5ECF6",
           "showlakes": true,
           "showland": true,
           "subunitcolor": "white"
          },
          "hoverlabel": {
           "align": "left"
          },
          "hovermode": "closest",
          "mapbox": {
           "style": "light"
          },
          "paper_bgcolor": "white",
          "plot_bgcolor": "#E5ECF6",
          "polar": {
           "angularaxis": {
            "gridcolor": "white",
            "linecolor": "white",
            "ticks": ""
           },
           "bgcolor": "#E5ECF6",
           "radialaxis": {
            "gridcolor": "white",
            "linecolor": "white",
            "ticks": ""
           }
          },
          "scene": {
           "xaxis": {
            "backgroundcolor": "#E5ECF6",
            "gridcolor": "white",
            "gridwidth": 2,
            "linecolor": "white",
            "showbackground": true,
            "ticks": "",
            "zerolinecolor": "white"
           },
           "yaxis": {
            "backgroundcolor": "#E5ECF6",
            "gridcolor": "white",
            "gridwidth": 2,
            "linecolor": "white",
            "showbackground": true,
            "ticks": "",
            "zerolinecolor": "white"
           },
           "zaxis": {
            "backgroundcolor": "#E5ECF6",
            "gridcolor": "white",
            "gridwidth": 2,
            "linecolor": "white",
            "showbackground": true,
            "ticks": "",
            "zerolinecolor": "white"
           }
          },
          "shapedefaults": {
           "line": {
            "color": "#2a3f5f"
           }
          },
          "ternary": {
           "aaxis": {
            "gridcolor": "white",
            "linecolor": "white",
            "ticks": ""
           },
           "baxis": {
            "gridcolor": "white",
            "linecolor": "white",
            "ticks": ""
           },
           "bgcolor": "#E5ECF6",
           "caxis": {
            "gridcolor": "white",
            "linecolor": "white",
            "ticks": ""
           }
          },
          "title": {
           "x": 0.05
          },
          "xaxis": {
           "automargin": true,
           "gridcolor": "white",
           "linecolor": "white",
           "ticks": "",
           "title": {
            "standoff": 15
           },
           "zerolinecolor": "white",
           "zerolinewidth": 2
          },
          "yaxis": {
           "automargin": true,
           "gridcolor": "white",
           "linecolor": "white",
           "ticks": "",
           "title": {
            "standoff": 15
           },
           "zerolinecolor": "white",
           "zerolinewidth": 2
          }
         }
        },
        "title": {
         "text": "توزیع مشتریان بر اساس تعداد سال های عضویت مشتری",
         "x": 0.5,
         "xanchor": "center"
        },
        "width": 1000,
        "xaxis": {
         "anchor": "y",
         "domain": [
          0,
          1
         ],
         "tickmode": "array",
         "tickvals": {
          "bdata": "AgEHCAUDBAkGCgA=",
          "dtype": "i1"
         },
         "title": {
          "text": "تعداد سال های عضویت"
         }
        },
        "yaxis": {
         "anchor": "x",
         "domain": [
          0,
          1
         ],
         "title": {
          "text": "تعداد مشتریان"
         }
        }
       }
      }
     },
     "metadata": {},
     "output_type": "display_data"
    }
   ],
   "source": [
    "col = \"Tenure\"\n",
    "title = \"توزیع مشتریان بر اساس تعداد سال های عضویت مشتری\"\n",
    "xtitle = \"تعداد سال های عضویت\"\n",
    "ytitle = \"تعداد مشتریان\"\n",
    "width = global_width\n",
    "height = global_height\n",
    "draw_bar(df, col, title, xtitle, ytitle, width, height, \n",
    "         show_labels=False, save=True)"
   ]
  },
  {
   "cell_type": "code",
   "execution_count": null,
   "id": "c559a9b9",
   "metadata": {},
   "outputs": [
    {
     "data": {
      "application/vnd.plotly.v1+json": {
       "config": {
        "plotlyServerURL": "https://plot.ly"
       },
       "data": [
        {
         "marker": {
          "color": "skyblue",
          "line": {
           "color": "black",
           "width": 0.5
          }
         },
         "opacity": 0.8,
         "type": "histogram",
         "x": {
          "bdata": "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",
          "dtype": "f8"
         },
         "xbins": {
          "end": 261034.09,
          "size": 10136,
          "start": 0
         }
        }
       ],
       "layout": {
        "bargap": 0.1,
        "font": {
         "family": "Vazir FD-WOL",
         "size": 13,
         "weight": "bold"
        },
        "height": 500,
        "template": {
         "data": {
          "bar": [
           {
            "error_x": {
             "color": "#2a3f5f"
            },
            "error_y": {
             "color": "#2a3f5f"
            },
            "marker": {
             "line": {
              "color": "#E5ECF6",
              "width": 0.5
             },
             "pattern": {
              "fillmode": "overlay",
              "size": 10,
              "solidity": 0.2
             }
            },
            "type": "bar"
           }
          ],
          "barpolar": [
           {
            "marker": {
             "line": {
              "color": "#E5ECF6",
              "width": 0.5
             },
             "pattern": {
              "fillmode": "overlay",
              "size": 10,
              "solidity": 0.2
             }
            },
            "type": "barpolar"
           }
          ],
          "carpet": [
           {
            "aaxis": {
             "endlinecolor": "#2a3f5f",
             "gridcolor": "white",
             "linecolor": "white",
             "minorgridcolor": "white",
             "startlinecolor": "#2a3f5f"
            },
            "baxis": {
             "endlinecolor": "#2a3f5f",
             "gridcolor": "white",
             "linecolor": "white",
             "minorgridcolor": "white",
             "startlinecolor": "#2a3f5f"
            },
            "type": "carpet"
           }
          ],
          "choropleth": [
           {
            "colorbar": {
             "outlinewidth": 0,
             "ticks": ""
            },
            "type": "choropleth"
           }
          ],
          "contour": [
           {
            "colorbar": {
             "outlinewidth": 0,
             "ticks": ""
            },
            "colorscale": [
             [
              0,
              "#0d0887"
             ],
             [
              0.1111111111111111,
              "#46039f"
             ],
             [
              0.2222222222222222,
              "#7201a8"
             ],
             [
              0.3333333333333333,
              "#9c179e"
             ],
             [
              0.4444444444444444,
              "#bd3786"
             ],
             [
              0.5555555555555556,
              "#d8576b"
             ],
             [
              0.6666666666666666,
              "#ed7953"
             ],
             [
              0.7777777777777778,
              "#fb9f3a"
             ],
             [
              0.8888888888888888,
              "#fdca26"
             ],
             [
              1,
              "#f0f921"
             ]
            ],
            "type": "contour"
           }
          ],
          "contourcarpet": [
           {
            "colorbar": {
             "outlinewidth": 0,
             "ticks": ""
            },
            "type": "contourcarpet"
           }
          ],
          "heatmap": [
           {
            "colorbar": {
             "outlinewidth": 0,
             "ticks": ""
            },
            "colorscale": [
             [
              0,
              "#0d0887"
             ],
             [
              0.1111111111111111,
              "#46039f"
             ],
             [
              0.2222222222222222,
              "#7201a8"
             ],
             [
              0.3333333333333333,
              "#9c179e"
             ],
             [
              0.4444444444444444,
              "#bd3786"
             ],
             [
              0.5555555555555556,
              "#d8576b"
             ],
             [
              0.6666666666666666,
              "#ed7953"
             ],
             [
              0.7777777777777778,
              "#fb9f3a"
             ],
             [
              0.8888888888888888,
              "#fdca26"
             ],
             [
              1,
              "#f0f921"
             ]
            ],
            "type": "heatmap"
           }
          ],
          "histogram": [
           {
            "marker": {
             "pattern": {
              "fillmode": "overlay",
              "size": 10,
              "solidity": 0.2
             }
            },
            "type": "histogram"
           }
          ],
          "histogram2d": [
           {
            "colorbar": {
             "outlinewidth": 0,
             "ticks": ""
            },
            "colorscale": [
             [
              0,
              "#0d0887"
             ],
             [
              0.1111111111111111,
              "#46039f"
             ],
             [
              0.2222222222222222,
              "#7201a8"
             ],
             [
              0.3333333333333333,
              "#9c179e"
             ],
             [
              0.4444444444444444,
              "#bd3786"
             ],
             [
              0.5555555555555556,
              "#d8576b"
             ],
             [
              0.6666666666666666,
              "#ed7953"
             ],
             [
              0.7777777777777778,
              "#fb9f3a"
             ],
             [
              0.8888888888888888,
              "#fdca26"
             ],
             [
              1,
              "#f0f921"
             ]
            ],
            "type": "histogram2d"
           }
          ],
          "histogram2dcontour": [
           {
            "colorbar": {
             "outlinewidth": 0,
             "ticks": ""
            },
            "colorscale": [
             [
              0,
              "#0d0887"
             ],
             [
              0.1111111111111111,
              "#46039f"
             ],
             [
              0.2222222222222222,
              "#7201a8"
             ],
             [
              0.3333333333333333,
              "#9c179e"
             ],
             [
              0.4444444444444444,
              "#bd3786"
             ],
             [
              0.5555555555555556,
              "#d8576b"
             ],
             [
              0.6666666666666666,
              "#ed7953"
             ],
             [
              0.7777777777777778,
              "#fb9f3a"
             ],
             [
              0.8888888888888888,
              "#fdca26"
             ],
             [
              1,
              "#f0f921"
             ]
            ],
            "type": "histogram2dcontour"
           }
          ],
          "mesh3d": [
           {
            "colorbar": {
             "outlinewidth": 0,
             "ticks": ""
            },
            "type": "mesh3d"
           }
          ],
          "parcoords": [
           {
            "line": {
             "colorbar": {
              "outlinewidth": 0,
              "ticks": ""
             }
            },
            "type": "parcoords"
           }
          ],
          "pie": [
           {
            "automargin": true,
            "type": "pie"
           }
          ],
          "scatter": [
           {
            "fillpattern": {
             "fillmode": "overlay",
             "size": 10,
             "solidity": 0.2
            },
            "type": "scatter"
           }
          ],
          "scatter3d": [
           {
            "line": {
             "colorbar": {
              "outlinewidth": 0,
              "ticks": ""
             }
            },
            "marker": {
             "colorbar": {
              "outlinewidth": 0,
              "ticks": ""
             }
            },
            "type": "scatter3d"
           }
          ],
          "scattercarpet": [
           {
            "marker": {
             "colorbar": {
              "outlinewidth": 0,
              "ticks": ""
             }
            },
            "type": "scattercarpet"
           }
          ],
          "scattergeo": [
           {
            "marker": {
             "colorbar": {
              "outlinewidth": 0,
              "ticks": ""
             }
            },
            "type": "scattergeo"
           }
          ],
          "scattergl": [
           {
            "marker": {
             "colorbar": {
              "outlinewidth": 0,
              "ticks": ""
             }
            },
            "type": "scattergl"
           }
          ],
          "scattermap": [
           {
            "marker": {
             "colorbar": {
              "outlinewidth": 0,
              "ticks": ""
             }
            },
            "type": "scattermap"
           }
          ],
          "scattermapbox": [
           {
            "marker": {
             "colorbar": {
              "outlinewidth": 0,
              "ticks": ""
             }
            },
            "type": "scattermapbox"
           }
          ],
          "scatterpolar": [
           {
            "marker": {
             "colorbar": {
              "outlinewidth": 0,
              "ticks": ""
             }
            },
            "type": "scatterpolar"
           }
          ],
          "scatterpolargl": [
           {
            "marker": {
             "colorbar": {
              "outlinewidth": 0,
              "ticks": ""
             }
            },
            "type": "scatterpolargl"
           }
          ],
          "scatterternary": [
           {
            "marker": {
             "colorbar": {
              "outlinewidth": 0,
              "ticks": ""
             }
            },
            "type": "scatterternary"
           }
          ],
          "surface": [
           {
            "colorbar": {
             "outlinewidth": 0,
             "ticks": ""
            },
            "colorscale": [
             [
              0,
              "#0d0887"
             ],
             [
              0.1111111111111111,
              "#46039f"
             ],
             [
              0.2222222222222222,
              "#7201a8"
             ],
             [
              0.3333333333333333,
              "#9c179e"
             ],
             [
              0.4444444444444444,
              "#bd3786"
             ],
             [
              0.5555555555555556,
              "#d8576b"
             ],
             [
              0.6666666666666666,
              "#ed7953"
             ],
             [
              0.7777777777777778,
              "#fb9f3a"
             ],
             [
              0.8888888888888888,
              "#fdca26"
             ],
             [
              1,
              "#f0f921"
             ]
            ],
            "type": "surface"
           }
          ],
          "table": [
           {
            "cells": {
             "fill": {
              "color": "#EBF0F8"
             },
             "line": {
              "color": "white"
             }
            },
            "header": {
             "fill": {
              "color": "#C8D4E3"
             },
             "line": {
              "color": "white"
             }
            },
            "type": "table"
           }
          ]
         },
         "layout": {
          "annotationdefaults": {
           "arrowcolor": "#2a3f5f",
           "arrowhead": 0,
           "arrowwidth": 1
          },
          "autotypenumbers": "strict",
          "coloraxis": {
           "colorbar": {
            "outlinewidth": 0,
            "ticks": ""
           }
          },
          "colorscale": {
           "diverging": [
            [
             0,
             "#8e0152"
            ],
            [
             0.1,
             "#c51b7d"
            ],
            [
             0.2,
             "#de77ae"
            ],
            [
             0.3,
             "#f1b6da"
            ],
            [
             0.4,
             "#fde0ef"
            ],
            [
             0.5,
             "#f7f7f7"
            ],
            [
             0.6,
             "#e6f5d0"
            ],
            [
             0.7,
             "#b8e186"
            ],
            [
             0.8,
             "#7fbc41"
            ],
            [
             0.9,
             "#4d9221"
            ],
            [
             1,
             "#276419"
            ]
           ],
           "sequential": [
            [
             0,
             "#0d0887"
            ],
            [
             0.1111111111111111,
             "#46039f"
            ],
            [
             0.2222222222222222,
             "#7201a8"
            ],
            [
             0.3333333333333333,
             "#9c179e"
            ],
            [
             0.4444444444444444,
             "#bd3786"
            ],
            [
             0.5555555555555556,
             "#d8576b"
            ],
            [
             0.6666666666666666,
             "#ed7953"
            ],
            [
             0.7777777777777778,
             "#fb9f3a"
            ],
            [
             0.8888888888888888,
             "#fdca26"
            ],
            [
             1,
             "#f0f921"
            ]
           ],
           "sequentialminus": [
            [
             0,
             "#0d0887"
            ],
            [
             0.1111111111111111,
             "#46039f"
            ],
            [
             0.2222222222222222,
             "#7201a8"
            ],
            [
             0.3333333333333333,
             "#9c179e"
            ],
            [
             0.4444444444444444,
             "#bd3786"
            ],
            [
             0.5555555555555556,
             "#d8576b"
            ],
            [
             0.6666666666666666,
             "#ed7953"
            ],
            [
             0.7777777777777778,
             "#fb9f3a"
            ],
            [
             0.8888888888888888,
             "#fdca26"
            ],
            [
             1,
             "#f0f921"
            ]
           ]
          },
          "colorway": [
           "#636efa",
           "#EF553B",
           "#00cc96",
           "#ab63fa",
           "#FFA15A",
           "#19d3f3",
           "#FF6692",
           "#B6E880",
           "#FF97FF",
           "#FECB52"
          ],
          "font": {
           "color": "#2a3f5f"
          },
          "geo": {
           "bgcolor": "white",
           "lakecolor": "white",
           "landcolor": "#E5ECF6",
           "showlakes": true,
           "showland": true,
           "subunitcolor": "white"
          },
          "hoverlabel": {
           "align": "left"
          },
          "hovermode": "closest",
          "mapbox": {
           "style": "light"
          },
          "paper_bgcolor": "white",
          "plot_bgcolor": "#E5ECF6",
          "polar": {
           "angularaxis": {
            "gridcolor": "white",
            "linecolor": "white",
            "ticks": ""
           },
           "bgcolor": "#E5ECF6",
           "radialaxis": {
            "gridcolor": "white",
            "linecolor": "white",
            "ticks": ""
           }
          },
          "scene": {
           "xaxis": {
            "backgroundcolor": "#E5ECF6",
            "gridcolor": "white",
            "gridwidth": 2,
            "linecolor": "white",
            "showbackground": true,
            "ticks": "",
            "zerolinecolor": "white"
           },
           "yaxis": {
            "backgroundcolor": "#E5ECF6",
            "gridcolor": "white",
            "gridwidth": 2,
            "linecolor": "white",
            "showbackground": true,
            "ticks": "",
            "zerolinecolor": "white"
           },
           "zaxis": {
            "backgroundcolor": "#E5ECF6",
            "gridcolor": "white",
            "gridwidth": 2,
            "linecolor": "white",
            "showbackground": true,
            "ticks": "",
            "zerolinecolor": "white"
           }
          },
          "shapedefaults": {
           "line": {
            "color": "#2a3f5f"
           }
          },
          "ternary": {
           "aaxis": {
            "gridcolor": "white",
            "linecolor": "white",
            "ticks": ""
           },
           "baxis": {
            "gridcolor": "white",
            "linecolor": "white",
            "ticks": ""
           },
           "bgcolor": "#E5ECF6",
           "caxis": {
            "gridcolor": "white",
            "linecolor": "white",
            "ticks": ""
           }
          },
          "title": {
           "x": 0.05
          },
          "xaxis": {
           "automargin": true,
           "gridcolor": "white",
           "linecolor": "white",
           "ticks": "",
           "title": {
            "standoff": 15
           },
           "zerolinecolor": "white",
           "zerolinewidth": 2
          },
          "yaxis": {
           "automargin": true,
           "gridcolor": "white",
           "linecolor": "white",
           "ticks": "",
           "title": {
            "standoff": 15
           },
           "zerolinecolor": "white",
           "zerolinewidth": 2
          }
         }
        },
        "title": {
         "text": "توزیع مشتریان بر اساس میزان موجودی حساب",
         "x": 0.5,
         "xanchor": "center"
        },
        "width": 1000,
        "xaxis": {
         "tickmode": "array",
         "ticktext": [
          "0 - 10k",
          "10k - 20k",
          "20k - 30k",
          "30k - 40k",
          "40k - 50k",
          "50k - 60k",
          "60k - 70k",
          "70k - 81k",
          "81k - 91k",
          "91k - 101k",
          "101k - 111k",
          "111k - 121k",
          "121k - 131k",
          "131k - 141k",
          "141k - 152k",
          "152k - 162k",
          "162k - 172k",
          "172k - 182k",
          "182k - 192k",
          "192k - 202k",
          "202k - 212k",
          "212k - 222k",
          "222k - 233k",
          "233k - 243k",
          "243k - 253k"
         ],
         "tickvals": {
          "bdata": "AAAAAADMs0AAAAAAALLNQAAAAAAAv9hAAAAAAIBS4UAAAAAAgEXmQAAAAACAOOtAAAAAAMAV8EAAAAAAQI/yQAAAAADACPVAAAAAAECC90AAAAAAwPv5QAAAAABAdfxAAAAAAMDu/kAAAAAAILQAQQAAAADg8AFBAAAAAKAtA0EAAAAAYGoEQQAAAAAgpwVBAAAAAODjBkEAAAAAoCAIQQAAAABgXQlBAAAAACCaCkEAAAAA4NYLQQAAAACgEw1BAAAAAGBQDkE=",
          "dtype": "f8"
         },
         "title": {
          "text": "میزان موجودی حساب"
         }
        },
        "yaxis": {
         "title": {
          "text": "تعداد مشتریان"
         }
        }
       }
      }
     },
     "metadata": {},
     "output_type": "display_data"
    }
   ],
   "source": [
    "col = \"Balance\"\n",
    "title = \"توزیع مشتریان بر اساس میزان موجودی حساب\"\n",
    "xtitle = \"میزان موجودی حساب\"\n",
    "ytitle = \"تعداد مشتریان\"\n",
    "width = global_width\n",
    "hight = global_height\n",
    "draw_histogram(df, col, title, xtitle, ytitle, width, hight, \n",
    "               method='Scott', format_k_labels=True, save=True)"
   ]
  },
  {
   "cell_type": "code",
   "execution_count": null,
   "id": "9052af58",
   "metadata": {},
   "outputs": [
    {
     "data": {
      "application/vnd.plotly.v1+json": {
       "config": {
        "plotlyServerURL": "https://plot.ly"
       },
       "data": [
        {
         "domain": {
          "x": [
           0,
           1
          ],
          "y": [
           0,
           1
          ]
         },
         "hovertemplate": "NumOfProducts=%{label}<br>Count=%{value}<extra></extra>",
         "labels": [
          "یک محصول",
          "دو محصول",
          "سه محصول",
          "چهار محصول"
         ],
         "legendgroup": "",
         "name": "",
         "showlegend": true,
         "textinfo": "percent+label",
         "type": "pie",
         "values": {
          "bdata": "3BPuEQoBPAA=",
          "dtype": "i2"
         }
        }
       ],
       "layout": {
        "font": {
         "family": "Vazir FD-WOL",
         "size": 13,
         "weight": "bold"
        },
        "height": 500,
        "legend": {
         "tracegroupgap": 0
        },
        "piecolorway": [
         "#19D3F3",
         "#FFA15A",
         "#636EFA",
         "#AB63FA"
        ],
        "template": {
         "data": {
          "bar": [
           {
            "error_x": {
             "color": "#2a3f5f"
            },
            "error_y": {
             "color": "#2a3f5f"
            },
            "marker": {
             "line": {
              "color": "#E5ECF6",
              "width": 0.5
             },
             "pattern": {
              "fillmode": "overlay",
              "size": 10,
              "solidity": 0.2
             }
            },
            "type": "bar"
           }
          ],
          "barpolar": [
           {
            "marker": {
             "line": {
              "color": "#E5ECF6",
              "width": 0.5
             },
             "pattern": {
              "fillmode": "overlay",
              "size": 10,
              "solidity": 0.2
             }
            },
            "type": "barpolar"
           }
          ],
          "carpet": [
           {
            "aaxis": {
             "endlinecolor": "#2a3f5f",
             "gridcolor": "white",
             "linecolor": "white",
             "minorgridcolor": "white",
             "startlinecolor": "#2a3f5f"
            },
            "baxis": {
             "endlinecolor": "#2a3f5f",
             "gridcolor": "white",
             "linecolor": "white",
             "minorgridcolor": "white",
             "startlinecolor": "#2a3f5f"
            },
            "type": "carpet"
           }
          ],
          "choropleth": [
           {
            "colorbar": {
             "outlinewidth": 0,
             "ticks": ""
            },
            "type": "choropleth"
           }
          ],
          "contour": [
           {
            "colorbar": {
             "outlinewidth": 0,
             "ticks": ""
            },
            "colorscale": [
             [
              0,
              "#0d0887"
             ],
             [
              0.1111111111111111,
              "#46039f"
             ],
             [
              0.2222222222222222,
              "#7201a8"
             ],
             [
              0.3333333333333333,
              "#9c179e"
             ],
             [
              0.4444444444444444,
              "#bd3786"
             ],
             [
              0.5555555555555556,
              "#d8576b"
             ],
             [
              0.6666666666666666,
              "#ed7953"
             ],
             [
              0.7777777777777778,
              "#fb9f3a"
             ],
             [
              0.8888888888888888,
              "#fdca26"
             ],
             [
              1,
              "#f0f921"
             ]
            ],
            "type": "contour"
           }
          ],
          "contourcarpet": [
           {
            "colorbar": {
             "outlinewidth": 0,
             "ticks": ""
            },
            "type": "contourcarpet"
           }
          ],
          "heatmap": [
           {
            "colorbar": {
             "outlinewidth": 0,
             "ticks": ""
            },
            "colorscale": [
             [
              0,
              "#0d0887"
             ],
             [
              0.1111111111111111,
              "#46039f"
             ],
             [
              0.2222222222222222,
              "#7201a8"
             ],
             [
              0.3333333333333333,
              "#9c179e"
             ],
             [
              0.4444444444444444,
              "#bd3786"
             ],
             [
              0.5555555555555556,
              "#d8576b"
             ],
             [
              0.6666666666666666,
              "#ed7953"
             ],
             [
              0.7777777777777778,
              "#fb9f3a"
             ],
             [
              0.8888888888888888,
              "#fdca26"
             ],
             [
              1,
              "#f0f921"
             ]
            ],
            "type": "heatmap"
           }
          ],
          "histogram": [
           {
            "marker": {
             "pattern": {
              "fillmode": "overlay",
              "size": 10,
              "solidity": 0.2
             }
            },
            "type": "histogram"
           }
          ],
          "histogram2d": [
           {
            "colorbar": {
             "outlinewidth": 0,
             "ticks": ""
            },
            "colorscale": [
             [
              0,
              "#0d0887"
             ],
             [
              0.1111111111111111,
              "#46039f"
             ],
             [
              0.2222222222222222,
              "#7201a8"
             ],
             [
              0.3333333333333333,
              "#9c179e"
             ],
             [
              0.4444444444444444,
              "#bd3786"
             ],
             [
              0.5555555555555556,
              "#d8576b"
             ],
             [
              0.6666666666666666,
              "#ed7953"
             ],
             [
              0.7777777777777778,
              "#fb9f3a"
             ],
             [
              0.8888888888888888,
              "#fdca26"
             ],
             [
              1,
              "#f0f921"
             ]
            ],
            "type": "histogram2d"
           }
          ],
          "histogram2dcontour": [
           {
            "colorbar": {
             "outlinewidth": 0,
             "ticks": ""
            },
            "colorscale": [
             [
              0,
              "#0d0887"
             ],
             [
              0.1111111111111111,
              "#46039f"
             ],
             [
              0.2222222222222222,
              "#7201a8"
             ],
             [
              0.3333333333333333,
              "#9c179e"
             ],
             [
              0.4444444444444444,
              "#bd3786"
             ],
             [
              0.5555555555555556,
              "#d8576b"
             ],
             [
              0.6666666666666666,
              "#ed7953"
             ],
             [
              0.7777777777777778,
              "#fb9f3a"
             ],
             [
              0.8888888888888888,
              "#fdca26"
             ],
             [
              1,
              "#f0f921"
             ]
            ],
            "type": "histogram2dcontour"
           }
          ],
          "mesh3d": [
           {
            "colorbar": {
             "outlinewidth": 0,
             "ticks": ""
            },
            "type": "mesh3d"
           }
          ],
          "parcoords": [
           {
            "line": {
             "colorbar": {
              "outlinewidth": 0,
              "ticks": ""
             }
            },
            "type": "parcoords"
           }
          ],
          "pie": [
           {
            "automargin": true,
            "type": "pie"
           }
          ],
          "scatter": [
           {
            "fillpattern": {
             "fillmode": "overlay",
             "size": 10,
             "solidity": 0.2
            },
            "type": "scatter"
           }
          ],
          "scatter3d": [
           {
            "line": {
             "colorbar": {
              "outlinewidth": 0,
              "ticks": ""
             }
            },
            "marker": {
             "colorbar": {
              "outlinewidth": 0,
              "ticks": ""
             }
            },
            "type": "scatter3d"
           }
          ],
          "scattercarpet": [
           {
            "marker": {
             "colorbar": {
              "outlinewidth": 0,
              "ticks": ""
             }
            },
            "type": "scattercarpet"
           }
          ],
          "scattergeo": [
           {
            "marker": {
             "colorbar": {
              "outlinewidth": 0,
              "ticks": ""
             }
            },
            "type": "scattergeo"
           }
          ],
          "scattergl": [
           {
            "marker": {
             "colorbar": {
              "outlinewidth": 0,
              "ticks": ""
             }
            },
            "type": "scattergl"
           }
          ],
          "scattermap": [
           {
            "marker": {
             "colorbar": {
              "outlinewidth": 0,
              "ticks": ""
             }
            },
            "type": "scattermap"
           }
          ],
          "scattermapbox": [
           {
            "marker": {
             "colorbar": {
              "outlinewidth": 0,
              "ticks": ""
             }
            },
            "type": "scattermapbox"
           }
          ],
          "scatterpolar": [
           {
            "marker": {
             "colorbar": {
              "outlinewidth": 0,
              "ticks": ""
             }
            },
            "type": "scatterpolar"
           }
          ],
          "scatterpolargl": [
           {
            "marker": {
             "colorbar": {
              "outlinewidth": 0,
              "ticks": ""
             }
            },
            "type": "scatterpolargl"
           }
          ],
          "scatterternary": [
           {
            "marker": {
             "colorbar": {
              "outlinewidth": 0,
              "ticks": ""
             }
            },
            "type": "scatterternary"
           }
          ],
          "surface": [
           {
            "colorbar": {
             "outlinewidth": 0,
             "ticks": ""
            },
            "colorscale": [
             [
              0,
              "#0d0887"
             ],
             [
              0.1111111111111111,
              "#46039f"
             ],
             [
              0.2222222222222222,
              "#7201a8"
             ],
             [
              0.3333333333333333,
              "#9c179e"
             ],
             [
              0.4444444444444444,
              "#bd3786"
             ],
             [
              0.5555555555555556,
              "#d8576b"
             ],
             [
              0.6666666666666666,
              "#ed7953"
             ],
             [
              0.7777777777777778,
              "#fb9f3a"
             ],
             [
              0.8888888888888888,
              "#fdca26"
             ],
             [
              1,
              "#f0f921"
             ]
            ],
            "type": "surface"
           }
          ],
          "table": [
           {
            "cells": {
             "fill": {
              "color": "#EBF0F8"
             },
             "line": {
              "color": "white"
             }
            },
            "header": {
             "fill": {
              "color": "#C8D4E3"
             },
             "line": {
              "color": "white"
             }
            },
            "type": "table"
           }
          ]
         },
         "layout": {
          "annotationdefaults": {
           "arrowcolor": "#2a3f5f",
           "arrowhead": 0,
           "arrowwidth": 1
          },
          "autotypenumbers": "strict",
          "coloraxis": {
           "colorbar": {
            "outlinewidth": 0,
            "ticks": ""
           }
          },
          "colorscale": {
           "diverging": [
            [
             0,
             "#8e0152"
            ],
            [
             0.1,
             "#c51b7d"
            ],
            [
             0.2,
             "#de77ae"
            ],
            [
             0.3,
             "#f1b6da"
            ],
            [
             0.4,
             "#fde0ef"
            ],
            [
             0.5,
             "#f7f7f7"
            ],
            [
             0.6,
             "#e6f5d0"
            ],
            [
             0.7,
             "#b8e186"
            ],
            [
             0.8,
             "#7fbc41"
            ],
            [
             0.9,
             "#4d9221"
            ],
            [
             1,
             "#276419"
            ]
           ],
           "sequential": [
            [
             0,
             "#0d0887"
            ],
            [
             0.1111111111111111,
             "#46039f"
            ],
            [
             0.2222222222222222,
             "#7201a8"
            ],
            [
             0.3333333333333333,
             "#9c179e"
            ],
            [
             0.4444444444444444,
             "#bd3786"
            ],
            [
             0.5555555555555556,
             "#d8576b"
            ],
            [
             0.6666666666666666,
             "#ed7953"
            ],
            [
             0.7777777777777778,
             "#fb9f3a"
            ],
            [
             0.8888888888888888,
             "#fdca26"
            ],
            [
             1,
             "#f0f921"
            ]
           ],
           "sequentialminus": [
            [
             0,
             "#0d0887"
            ],
            [
             0.1111111111111111,
             "#46039f"
            ],
            [
             0.2222222222222222,
             "#7201a8"
            ],
            [
             0.3333333333333333,
             "#9c179e"
            ],
            [
             0.4444444444444444,
             "#bd3786"
            ],
            [
             0.5555555555555556,
             "#d8576b"
            ],
            [
             0.6666666666666666,
             "#ed7953"
            ],
            [
             0.7777777777777778,
             "#fb9f3a"
            ],
            [
             0.8888888888888888,
             "#fdca26"
            ],
            [
             1,
             "#f0f921"
            ]
           ]
          },
          "colorway": [
           "#636efa",
           "#EF553B",
           "#00cc96",
           "#ab63fa",
           "#FFA15A",
           "#19d3f3",
           "#FF6692",
           "#B6E880",
           "#FF97FF",
           "#FECB52"
          ],
          "font": {
           "color": "#2a3f5f"
          },
          "geo": {
           "bgcolor": "white",
           "lakecolor": "white",
           "landcolor": "#E5ECF6",
           "showlakes": true,
           "showland": true,
           "subunitcolor": "white"
          },
          "hoverlabel": {
           "align": "left"
          },
          "hovermode": "closest",
          "mapbox": {
           "style": "light"
          },
          "paper_bgcolor": "white",
          "plot_bgcolor": "#E5ECF6",
          "polar": {
           "angularaxis": {
            "gridcolor": "white",
            "linecolor": "white",
            "ticks": ""
           },
           "bgcolor": "#E5ECF6",
           "radialaxis": {
            "gridcolor": "white",
            "linecolor": "white",
            "ticks": ""
           }
          },
          "scene": {
           "xaxis": {
            "backgroundcolor": "#E5ECF6",
            "gridcolor": "white",
            "gridwidth": 2,
            "linecolor": "white",
            "showbackground": true,
            "ticks": "",
            "zerolinecolor": "white"
           },
           "yaxis": {
            "backgroundcolor": "#E5ECF6",
            "gridcolor": "white",
            "gridwidth": 2,
            "linecolor": "white",
            "showbackground": true,
            "ticks": "",
            "zerolinecolor": "white"
           },
           "zaxis": {
            "backgroundcolor": "#E5ECF6",
            "gridcolor": "white",
            "gridwidth": 2,
            "linecolor": "white",
            "showbackground": true,
            "ticks": "",
            "zerolinecolor": "white"
           }
          },
          "shapedefaults": {
           "line": {
            "color": "#2a3f5f"
           }
          },
          "ternary": {
           "aaxis": {
            "gridcolor": "white",
            "linecolor": "white",
            "ticks": ""
           },
           "baxis": {
            "gridcolor": "white",
            "linecolor": "white",
            "ticks": ""
           },
           "bgcolor": "#E5ECF6",
           "caxis": {
            "gridcolor": "white",
            "linecolor": "white",
            "ticks": ""
           }
          },
          "title": {
           "x": 0.05
          },
          "xaxis": {
           "automargin": true,
           "gridcolor": "white",
           "linecolor": "white",
           "ticks": "",
           "title": {
            "standoff": 15
           },
           "zerolinecolor": "white",
           "zerolinewidth": 2
          },
          "yaxis": {
           "automargin": true,
           "gridcolor": "white",
           "linecolor": "white",
           "ticks": "",
           "title": {
            "standoff": 15
           },
           "zerolinecolor": "white",
           "zerolinewidth": 2
          }
         }
        },
        "title": {
         "text": "نسبت مشتریان بر اساس تعداد محصولات بانکی",
         "x": 0.5,
         "xanchor": "center"
        },
        "width": 1000
       }
      }
     },
     "metadata": {},
     "output_type": "display_data"
    }
   ],
   "source": [
    "col = \"NumOfProducts\"\n",
    "title = \"نسبت مشتریان بر اساس تعداد محصولات بانکی\"\n",
    "width = global_width\n",
    "height = global_height\n",
    "custom_colors = [\n",
    "    \"#19D3F3\",\n",
    "    \"#FFA15A\",\n",
    "    \"#636EFA\",\n",
    "    \"#AB63FA\"\n",
    "    \n",
    "]\n",
    "custom_labels = {\n",
    "    1: \"یک محصول\",\n",
    "    2: \"دو محصول\",\n",
    "    3: \"سه محصول\",\n",
    "    4: \"چهار محصول\"\n",
    "}\n",
    "draw_pie_chart(df, col, title, width, height, \n",
    "               custom_colors=custom_colors, custom_labels=custom_labels, save=True)"
   ]
  },
  {
   "cell_type": "code",
   "execution_count": null,
   "id": "743da29d",
   "metadata": {},
   "outputs": [
    {
     "data": {
      "application/vnd.plotly.v1+json": {
       "config": {
        "plotlyServerURL": "https://plot.ly"
       },
       "data": [
        {
         "domain": {
          "x": [
           0,
           1
          ],
          "y": [
           0,
           1
          ]
         },
         "hovertemplate": "HasCrCard=%{label}<br>Count=%{value}<extra></extra>",
         "labels": [
          "دارای کارت",
          "بدون کارت"
         ],
         "legendgroup": "",
         "name": "",
         "showlegend": true,
         "textinfo": "percent+label",
         "type": "pie",
         "values": {
          "bdata": "jxuBCw==",
          "dtype": "i2"
         }
        }
       ],
       "layout": {
        "font": {
         "family": "Vazir FD-WOL",
         "size": 13,
         "weight": "bold"
        },
        "height": 500,
        "legend": {
         "tracegroupgap": 0
        },
        "piecolorway": [
         "#00CC96",
         "#FFA15A"
        ],
        "template": {
         "data": {
          "bar": [
           {
            "error_x": {
             "color": "#2a3f5f"
            },
            "error_y": {
             "color": "#2a3f5f"
            },
            "marker": {
             "line": {
              "color": "#E5ECF6",
              "width": 0.5
             },
             "pattern": {
              "fillmode": "overlay",
              "size": 10,
              "solidity": 0.2
             }
            },
            "type": "bar"
           }
          ],
          "barpolar": [
           {
            "marker": {
             "line": {
              "color": "#E5ECF6",
              "width": 0.5
             },
             "pattern": {
              "fillmode": "overlay",
              "size": 10,
              "solidity": 0.2
             }
            },
            "type": "barpolar"
           }
          ],
          "carpet": [
           {
            "aaxis": {
             "endlinecolor": "#2a3f5f",
             "gridcolor": "white",
             "linecolor": "white",
             "minorgridcolor": "white",
             "startlinecolor": "#2a3f5f"
            },
            "baxis": {
             "endlinecolor": "#2a3f5f",
             "gridcolor": "white",
             "linecolor": "white",
             "minorgridcolor": "white",
             "startlinecolor": "#2a3f5f"
            },
            "type": "carpet"
           }
          ],
          "choropleth": [
           {
            "colorbar": {
             "outlinewidth": 0,
             "ticks": ""
            },
            "type": "choropleth"
           }
          ],
          "contour": [
           {
            "colorbar": {
             "outlinewidth": 0,
             "ticks": ""
            },
            "colorscale": [
             [
              0,
              "#0d0887"
             ],
             [
              0.1111111111111111,
              "#46039f"
             ],
             [
              0.2222222222222222,
              "#7201a8"
             ],
             [
              0.3333333333333333,
              "#9c179e"
             ],
             [
              0.4444444444444444,
              "#bd3786"
             ],
             [
              0.5555555555555556,
              "#d8576b"
             ],
             [
              0.6666666666666666,
              "#ed7953"
             ],
             [
              0.7777777777777778,
              "#fb9f3a"
             ],
             [
              0.8888888888888888,
              "#fdca26"
             ],
             [
              1,
              "#f0f921"
             ]
            ],
            "type": "contour"
           }
          ],
          "contourcarpet": [
           {
            "colorbar": {
             "outlinewidth": 0,
             "ticks": ""
            },
            "type": "contourcarpet"
           }
          ],
          "heatmap": [
           {
            "colorbar": {
             "outlinewidth": 0,
             "ticks": ""
            },
            "colorscale": [
             [
              0,
              "#0d0887"
             ],
             [
              0.1111111111111111,
              "#46039f"
             ],
             [
              0.2222222222222222,
              "#7201a8"
             ],
             [
              0.3333333333333333,
              "#9c179e"
             ],
             [
              0.4444444444444444,
              "#bd3786"
             ],
             [
              0.5555555555555556,
              "#d8576b"
             ],
             [
              0.6666666666666666,
              "#ed7953"
             ],
             [
              0.7777777777777778,
              "#fb9f3a"
             ],
             [
              0.8888888888888888,
              "#fdca26"
             ],
             [
              1,
              "#f0f921"
             ]
            ],
            "type": "heatmap"
           }
          ],
          "histogram": [
           {
            "marker": {
             "pattern": {
              "fillmode": "overlay",
              "size": 10,
              "solidity": 0.2
             }
            },
            "type": "histogram"
           }
          ],
          "histogram2d": [
           {
            "colorbar": {
             "outlinewidth": 0,
             "ticks": ""
            },
            "colorscale": [
             [
              0,
              "#0d0887"
             ],
             [
              0.1111111111111111,
              "#46039f"
             ],
             [
              0.2222222222222222,
              "#7201a8"
             ],
             [
              0.3333333333333333,
              "#9c179e"
             ],
             [
              0.4444444444444444,
              "#bd3786"
             ],
             [
              0.5555555555555556,
              "#d8576b"
             ],
             [
              0.6666666666666666,
              "#ed7953"
             ],
             [
              0.7777777777777778,
              "#fb9f3a"
             ],
             [
              0.8888888888888888,
              "#fdca26"
             ],
             [
              1,
              "#f0f921"
             ]
            ],
            "type": "histogram2d"
           }
          ],
          "histogram2dcontour": [
           {
            "colorbar": {
             "outlinewidth": 0,
             "ticks": ""
            },
            "colorscale": [
             [
              0,
              "#0d0887"
             ],
             [
              0.1111111111111111,
              "#46039f"
             ],
             [
              0.2222222222222222,
              "#7201a8"
             ],
             [
              0.3333333333333333,
              "#9c179e"
             ],
             [
              0.4444444444444444,
              "#bd3786"
             ],
             [
              0.5555555555555556,
              "#d8576b"
             ],
             [
              0.6666666666666666,
              "#ed7953"
             ],
             [
              0.7777777777777778,
              "#fb9f3a"
             ],
             [
              0.8888888888888888,
              "#fdca26"
             ],
             [
              1,
              "#f0f921"
             ]
            ],
            "type": "histogram2dcontour"
           }
          ],
          "mesh3d": [
           {
            "colorbar": {
             "outlinewidth": 0,
             "ticks": ""
            },
            "type": "mesh3d"
           }
          ],
          "parcoords": [
           {
            "line": {
             "colorbar": {
              "outlinewidth": 0,
              "ticks": ""
             }
            },
            "type": "parcoords"
           }
          ],
          "pie": [
           {
            "automargin": true,
            "type": "pie"
           }
          ],
          "scatter": [
           {
            "fillpattern": {
             "fillmode": "overlay",
             "size": 10,
             "solidity": 0.2
            },
            "type": "scatter"
           }
          ],
          "scatter3d": [
           {
            "line": {
             "colorbar": {
              "outlinewidth": 0,
              "ticks": ""
             }
            },
            "marker": {
             "colorbar": {
              "outlinewidth": 0,
              "ticks": ""
             }
            },
            "type": "scatter3d"
           }
          ],
          "scattercarpet": [
           {
            "marker": {
             "colorbar": {
              "outlinewidth": 0,
              "ticks": ""
             }
            },
            "type": "scattercarpet"
           }
          ],
          "scattergeo": [
           {
            "marker": {
             "colorbar": {
              "outlinewidth": 0,
              "ticks": ""
             }
            },
            "type": "scattergeo"
           }
          ],
          "scattergl": [
           {
            "marker": {
             "colorbar": {
              "outlinewidth": 0,
              "ticks": ""
             }
            },
            "type": "scattergl"
           }
          ],
          "scattermap": [
           {
            "marker": {
             "colorbar": {
              "outlinewidth": 0,
              "ticks": ""
             }
            },
            "type": "scattermap"
           }
          ],
          "scattermapbox": [
           {
            "marker": {
             "colorbar": {
              "outlinewidth": 0,
              "ticks": ""
             }
            },
            "type": "scattermapbox"
           }
          ],
          "scatterpolar": [
           {
            "marker": {
             "colorbar": {
              "outlinewidth": 0,
              "ticks": ""
             }
            },
            "type": "scatterpolar"
           }
          ],
          "scatterpolargl": [
           {
            "marker": {
             "colorbar": {
              "outlinewidth": 0,
              "ticks": ""
             }
            },
            "type": "scatterpolargl"
           }
          ],
          "scatterternary": [
           {
            "marker": {
             "colorbar": {
              "outlinewidth": 0,
              "ticks": ""
             }
            },
            "type": "scatterternary"
           }
          ],
          "surface": [
           {
            "colorbar": {
             "outlinewidth": 0,
             "ticks": ""
            },
            "colorscale": [
             [
              0,
              "#0d0887"
             ],
             [
              0.1111111111111111,
              "#46039f"
             ],
             [
              0.2222222222222222,
              "#7201a8"
             ],
             [
              0.3333333333333333,
              "#9c179e"
             ],
             [
              0.4444444444444444,
              "#bd3786"
             ],
             [
              0.5555555555555556,
              "#d8576b"
             ],
             [
              0.6666666666666666,
              "#ed7953"
             ],
             [
              0.7777777777777778,
              "#fb9f3a"
             ],
             [
              0.8888888888888888,
              "#fdca26"
             ],
             [
              1,
              "#f0f921"
             ]
            ],
            "type": "surface"
           }
          ],
          "table": [
           {
            "cells": {
             "fill": {
              "color": "#EBF0F8"
             },
             "line": {
              "color": "white"
             }
            },
            "header": {
             "fill": {
              "color": "#C8D4E3"
             },
             "line": {
              "color": "white"
             }
            },
            "type": "table"
           }
          ]
         },
         "layout": {
          "annotationdefaults": {
           "arrowcolor": "#2a3f5f",
           "arrowhead": 0,
           "arrowwidth": 1
          },
          "autotypenumbers": "strict",
          "coloraxis": {
           "colorbar": {
            "outlinewidth": 0,
            "ticks": ""
           }
          },
          "colorscale": {
           "diverging": [
            [
             0,
             "#8e0152"
            ],
            [
             0.1,
             "#c51b7d"
            ],
            [
             0.2,
             "#de77ae"
            ],
            [
             0.3,
             "#f1b6da"
            ],
            [
             0.4,
             "#fde0ef"
            ],
            [
             0.5,
             "#f7f7f7"
            ],
            [
             0.6,
             "#e6f5d0"
            ],
            [
             0.7,
             "#b8e186"
            ],
            [
             0.8,
             "#7fbc41"
            ],
            [
             0.9,
             "#4d9221"
            ],
            [
             1,
             "#276419"
            ]
           ],
           "sequential": [
            [
             0,
             "#0d0887"
            ],
            [
             0.1111111111111111,
             "#46039f"
            ],
            [
             0.2222222222222222,
             "#7201a8"
            ],
            [
             0.3333333333333333,
             "#9c179e"
            ],
            [
             0.4444444444444444,
             "#bd3786"
            ],
            [
             0.5555555555555556,
             "#d8576b"
            ],
            [
             0.6666666666666666,
             "#ed7953"
            ],
            [
             0.7777777777777778,
             "#fb9f3a"
            ],
            [
             0.8888888888888888,
             "#fdca26"
            ],
            [
             1,
             "#f0f921"
            ]
           ],
           "sequentialminus": [
            [
             0,
             "#0d0887"
            ],
            [
             0.1111111111111111,
             "#46039f"
            ],
            [
             0.2222222222222222,
             "#7201a8"
            ],
            [
             0.3333333333333333,
             "#9c179e"
            ],
            [
             0.4444444444444444,
             "#bd3786"
            ],
            [
             0.5555555555555556,
             "#d8576b"
            ],
            [
             0.6666666666666666,
             "#ed7953"
            ],
            [
             0.7777777777777778,
             "#fb9f3a"
            ],
            [
             0.8888888888888888,
             "#fdca26"
            ],
            [
             1,
             "#f0f921"
            ]
           ]
          },
          "colorway": [
           "#636efa",
           "#EF553B",
           "#00cc96",
           "#ab63fa",
           "#FFA15A",
           "#19d3f3",
           "#FF6692",
           "#B6E880",
           "#FF97FF",
           "#FECB52"
          ],
          "font": {
           "color": "#2a3f5f"
          },
          "geo": {
           "bgcolor": "white",
           "lakecolor": "white",
           "landcolor": "#E5ECF6",
           "showlakes": true,
           "showland": true,
           "subunitcolor": "white"
          },
          "hoverlabel": {
           "align": "left"
          },
          "hovermode": "closest",
          "mapbox": {
           "style": "light"
          },
          "paper_bgcolor": "white",
          "plot_bgcolor": "#E5ECF6",
          "polar": {
           "angularaxis": {
            "gridcolor": "white",
            "linecolor": "white",
            "ticks": ""
           },
           "bgcolor": "#E5ECF6",
           "radialaxis": {
            "gridcolor": "white",
            "linecolor": "white",
            "ticks": ""
           }
          },
          "scene": {
           "xaxis": {
            "backgroundcolor": "#E5ECF6",
            "gridcolor": "white",
            "gridwidth": 2,
            "linecolor": "white",
            "showbackground": true,
            "ticks": "",
            "zerolinecolor": "white"
           },
           "yaxis": {
            "backgroundcolor": "#E5ECF6",
            "gridcolor": "white",
            "gridwidth": 2,
            "linecolor": "white",
            "showbackground": true,
            "ticks": "",
            "zerolinecolor": "white"
           },
           "zaxis": {
            "backgroundcolor": "#E5ECF6",
            "gridcolor": "white",
            "gridwidth": 2,
            "linecolor": "white",
            "showbackground": true,
            "ticks": "",
            "zerolinecolor": "white"
           }
          },
          "shapedefaults": {
           "line": {
            "color": "#2a3f5f"
           }
          },
          "ternary": {
           "aaxis": {
            "gridcolor": "white",
            "linecolor": "white",
            "ticks": ""
           },
           "baxis": {
            "gridcolor": "white",
            "linecolor": "white",
            "ticks": ""
           },
           "bgcolor": "#E5ECF6",
           "caxis": {
            "gridcolor": "white",
            "linecolor": "white",
            "ticks": ""
           }
          },
          "title": {
           "x": 0.05
          },
          "xaxis": {
           "automargin": true,
           "gridcolor": "white",
           "linecolor": "white",
           "ticks": "",
           "title": {
            "standoff": 15
           },
           "zerolinecolor": "white",
           "zerolinewidth": 2
          },
          "yaxis": {
           "automargin": true,
           "gridcolor": "white",
           "linecolor": "white",
           "ticks": "",
           "title": {
            "standoff": 15
           },
           "zerolinecolor": "white",
           "zerolinewidth": 2
          }
         }
        },
        "title": {
         "text": "نسبت مشتریان دارای کارت اعتباری",
         "x": 0.5,
         "xanchor": "center"
        },
        "width": 1000
       }
      }
     },
     "metadata": {},
     "output_type": "display_data"
    }
   ],
   "source": [
    "col = \"HasCrCard\"\n",
    "title = \"نسبت مشتریان دارای کارت اعتباری\"\n",
    "width = global_width\n",
    "height = global_height\n",
    "custom_colors = [\n",
    "    \"#00CC96\", \n",
    "    \"#FFA15A\"\n",
    "]\n",
    "custom_labels = {\n",
    "    1: \"دارای کارت\",\n",
    "    0: \"بدون کارت\"\n",
    "}\n",
    "draw_pie_chart(df, col, title, width, height, \n",
    "               custom_colors=custom_colors, custom_labels=custom_labels, save=True)"
   ]
  },
  {
   "cell_type": "code",
   "execution_count": null,
   "id": "b8a612b8",
   "metadata": {},
   "outputs": [
    {
     "data": {
      "application/vnd.plotly.v1+json": {
       "config": {
        "plotlyServerURL": "https://plot.ly"
       },
       "data": [
        {
         "domain": {
          "x": [
           0,
           1
          ],
          "y": [
           0,
           1
          ]
         },
         "hovertemplate": "IsActiveMember=%{label}<br>Count=%{value}<extra></extra>",
         "labels": [
          "فعال",
          "غیرفعال"
         ],
         "legendgroup": "",
         "name": "",
         "showlegend": true,
         "textinfo": "percent+label",
         "type": "pie",
         "values": {
          "bdata": "HxTxEg==",
          "dtype": "i2"
         }
        }
       ],
       "layout": {
        "font": {
         "family": "Vazir FD-WOL",
         "size": 13,
         "weight": "bold"
        },
        "height": 500,
        "legend": {
         "tracegroupgap": 0
        },
        "piecolorway": [
         "#00CC96",
         "#FFA15A"
        ],
        "template": {
         "data": {
          "bar": [
           {
            "error_x": {
             "color": "#2a3f5f"
            },
            "error_y": {
             "color": "#2a3f5f"
            },
            "marker": {
             "line": {
              "color": "#E5ECF6",
              "width": 0.5
             },
             "pattern": {
              "fillmode": "overlay",
              "size": 10,
              "solidity": 0.2
             }
            },
            "type": "bar"
           }
          ],
          "barpolar": [
           {
            "marker": {
             "line": {
              "color": "#E5ECF6",
              "width": 0.5
             },
             "pattern": {
              "fillmode": "overlay",
              "size": 10,
              "solidity": 0.2
             }
            },
            "type": "barpolar"
           }
          ],
          "carpet": [
           {
            "aaxis": {
             "endlinecolor": "#2a3f5f",
             "gridcolor": "white",
             "linecolor": "white",
             "minorgridcolor": "white",
             "startlinecolor": "#2a3f5f"
            },
            "baxis": {
             "endlinecolor": "#2a3f5f",
             "gridcolor": "white",
             "linecolor": "white",
             "minorgridcolor": "white",
             "startlinecolor": "#2a3f5f"
            },
            "type": "carpet"
           }
          ],
          "choropleth": [
           {
            "colorbar": {
             "outlinewidth": 0,
             "ticks": ""
            },
            "type": "choropleth"
           }
          ],
          "contour": [
           {
            "colorbar": {
             "outlinewidth": 0,
             "ticks": ""
            },
            "colorscale": [
             [
              0,
              "#0d0887"
             ],
             [
              0.1111111111111111,
              "#46039f"
             ],
             [
              0.2222222222222222,
              "#7201a8"
             ],
             [
              0.3333333333333333,
              "#9c179e"
             ],
             [
              0.4444444444444444,
              "#bd3786"
             ],
             [
              0.5555555555555556,
              "#d8576b"
             ],
             [
              0.6666666666666666,
              "#ed7953"
             ],
             [
              0.7777777777777778,
              "#fb9f3a"
             ],
             [
              0.8888888888888888,
              "#fdca26"
             ],
             [
              1,
              "#f0f921"
             ]
            ],
            "type": "contour"
           }
          ],
          "contourcarpet": [
           {
            "colorbar": {
             "outlinewidth": 0,
             "ticks": ""
            },
            "type": "contourcarpet"
           }
          ],
          "heatmap": [
           {
            "colorbar": {
             "outlinewidth": 0,
             "ticks": ""
            },
            "colorscale": [
             [
              0,
              "#0d0887"
             ],
             [
              0.1111111111111111,
              "#46039f"
             ],
             [
              0.2222222222222222,
              "#7201a8"
             ],
             [
              0.3333333333333333,
              "#9c179e"
             ],
             [
              0.4444444444444444,
              "#bd3786"
             ],
             [
              0.5555555555555556,
              "#d8576b"
             ],
             [
              0.6666666666666666,
              "#ed7953"
             ],
             [
              0.7777777777777778,
              "#fb9f3a"
             ],
             [
              0.8888888888888888,
              "#fdca26"
             ],
             [
              1,
              "#f0f921"
             ]
            ],
            "type": "heatmap"
           }
          ],
          "histogram": [
           {
            "marker": {
             "pattern": {
              "fillmode": "overlay",
              "size": 10,
              "solidity": 0.2
             }
            },
            "type": "histogram"
           }
          ],
          "histogram2d": [
           {
            "colorbar": {
             "outlinewidth": 0,
             "ticks": ""
            },
            "colorscale": [
             [
              0,
              "#0d0887"
             ],
             [
              0.1111111111111111,
              "#46039f"
             ],
             [
              0.2222222222222222,
              "#7201a8"
             ],
             [
              0.3333333333333333,
              "#9c179e"
             ],
             [
              0.4444444444444444,
              "#bd3786"
             ],
             [
              0.5555555555555556,
              "#d8576b"
             ],
             [
              0.6666666666666666,
              "#ed7953"
             ],
             [
              0.7777777777777778,
              "#fb9f3a"
             ],
             [
              0.8888888888888888,
              "#fdca26"
             ],
             [
              1,
              "#f0f921"
             ]
            ],
            "type": "histogram2d"
           }
          ],
          "histogram2dcontour": [
           {
            "colorbar": {
             "outlinewidth": 0,
             "ticks": ""
            },
            "colorscale": [
             [
              0,
              "#0d0887"
             ],
             [
              0.1111111111111111,
              "#46039f"
             ],
             [
              0.2222222222222222,
              "#7201a8"
             ],
             [
              0.3333333333333333,
              "#9c179e"
             ],
             [
              0.4444444444444444,
              "#bd3786"
             ],
             [
              0.5555555555555556,
              "#d8576b"
             ],
             [
              0.6666666666666666,
              "#ed7953"
             ],
             [
              0.7777777777777778,
              "#fb9f3a"
             ],
             [
              0.8888888888888888,
              "#fdca26"
             ],
             [
              1,
              "#f0f921"
             ]
            ],
            "type": "histogram2dcontour"
           }
          ],
          "mesh3d": [
           {
            "colorbar": {
             "outlinewidth": 0,
             "ticks": ""
            },
            "type": "mesh3d"
           }
          ],
          "parcoords": [
           {
            "line": {
             "colorbar": {
              "outlinewidth": 0,
              "ticks": ""
             }
            },
            "type": "parcoords"
           }
          ],
          "pie": [
           {
            "automargin": true,
            "type": "pie"
           }
          ],
          "scatter": [
           {
            "fillpattern": {
             "fillmode": "overlay",
             "size": 10,
             "solidity": 0.2
            },
            "type": "scatter"
           }
          ],
          "scatter3d": [
           {
            "line": {
             "colorbar": {
              "outlinewidth": 0,
              "ticks": ""
             }
            },
            "marker": {
             "colorbar": {
              "outlinewidth": 0,
              "ticks": ""
             }
            },
            "type": "scatter3d"
           }
          ],
          "scattercarpet": [
           {
            "marker": {
             "colorbar": {
              "outlinewidth": 0,
              "ticks": ""
             }
            },
            "type": "scattercarpet"
           }
          ],
          "scattergeo": [
           {
            "marker": {
             "colorbar": {
              "outlinewidth": 0,
              "ticks": ""
             }
            },
            "type": "scattergeo"
           }
          ],
          "scattergl": [
           {
            "marker": {
             "colorbar": {
              "outlinewidth": 0,
              "ticks": ""
             }
            },
            "type": "scattergl"
           }
          ],
          "scattermap": [
           {
            "marker": {
             "colorbar": {
              "outlinewidth": 0,
              "ticks": ""
             }
            },
            "type": "scattermap"
           }
          ],
          "scattermapbox": [
           {
            "marker": {
             "colorbar": {
              "outlinewidth": 0,
              "ticks": ""
             }
            },
            "type": "scattermapbox"
           }
          ],
          "scatterpolar": [
           {
            "marker": {
             "colorbar": {
              "outlinewidth": 0,
              "ticks": ""
             }
            },
            "type": "scatterpolar"
           }
          ],
          "scatterpolargl": [
           {
            "marker": {
             "colorbar": {
              "outlinewidth": 0,
              "ticks": ""
             }
            },
            "type": "scatterpolargl"
           }
          ],
          "scatterternary": [
           {
            "marker": {
             "colorbar": {
              "outlinewidth": 0,
              "ticks": ""
             }
            },
            "type": "scatterternary"
           }
          ],
          "surface": [
           {
            "colorbar": {
             "outlinewidth": 0,
             "ticks": ""
            },
            "colorscale": [
             [
              0,
              "#0d0887"
             ],
             [
              0.1111111111111111,
              "#46039f"
             ],
             [
              0.2222222222222222,
              "#7201a8"
             ],
             [
              0.3333333333333333,
              "#9c179e"
             ],
             [
              0.4444444444444444,
              "#bd3786"
             ],
             [
              0.5555555555555556,
              "#d8576b"
             ],
             [
              0.6666666666666666,
              "#ed7953"
             ],
             [
              0.7777777777777778,
              "#fb9f3a"
             ],
             [
              0.8888888888888888,
              "#fdca26"
             ],
             [
              1,
              "#f0f921"
             ]
            ],
            "type": "surface"
           }
          ],
          "table": [
           {
            "cells": {
             "fill": {
              "color": "#EBF0F8"
             },
             "line": {
              "color": "white"
             }
            },
            "header": {
             "fill": {
              "color": "#C8D4E3"
             },
             "line": {
              "color": "white"
             }
            },
            "type": "table"
           }
          ]
         },
         "layout": {
          "annotationdefaults": {
           "arrowcolor": "#2a3f5f",
           "arrowhead": 0,
           "arrowwidth": 1
          },
          "autotypenumbers": "strict",
          "coloraxis": {
           "colorbar": {
            "outlinewidth": 0,
            "ticks": ""
           }
          },
          "colorscale": {
           "diverging": [
            [
             0,
             "#8e0152"
            ],
            [
             0.1,
             "#c51b7d"
            ],
            [
             0.2,
             "#de77ae"
            ],
            [
             0.3,
             "#f1b6da"
            ],
            [
             0.4,
             "#fde0ef"
            ],
            [
             0.5,
             "#f7f7f7"
            ],
            [
             0.6,
             "#e6f5d0"
            ],
            [
             0.7,
             "#b8e186"
            ],
            [
             0.8,
             "#7fbc41"
            ],
            [
             0.9,
             "#4d9221"
            ],
            [
             1,
             "#276419"
            ]
           ],
           "sequential": [
            [
             0,
             "#0d0887"
            ],
            [
             0.1111111111111111,
             "#46039f"
            ],
            [
             0.2222222222222222,
             "#7201a8"
            ],
            [
             0.3333333333333333,
             "#9c179e"
            ],
            [
             0.4444444444444444,
             "#bd3786"
            ],
            [
             0.5555555555555556,
             "#d8576b"
            ],
            [
             0.6666666666666666,
             "#ed7953"
            ],
            [
             0.7777777777777778,
             "#fb9f3a"
            ],
            [
             0.8888888888888888,
             "#fdca26"
            ],
            [
             1,
             "#f0f921"
            ]
           ],
           "sequentialminus": [
            [
             0,
             "#0d0887"
            ],
            [
             0.1111111111111111,
             "#46039f"
            ],
            [
             0.2222222222222222,
             "#7201a8"
            ],
            [
             0.3333333333333333,
             "#9c179e"
            ],
            [
             0.4444444444444444,
             "#bd3786"
            ],
            [
             0.5555555555555556,
             "#d8576b"
            ],
            [
             0.6666666666666666,
             "#ed7953"
            ],
            [
             0.7777777777777778,
             "#fb9f3a"
            ],
            [
             0.8888888888888888,
             "#fdca26"
            ],
            [
             1,
             "#f0f921"
            ]
           ]
          },
          "colorway": [
           "#636efa",
           "#EF553B",
           "#00cc96",
           "#ab63fa",
           "#FFA15A",
           "#19d3f3",
           "#FF6692",
           "#B6E880",
           "#FF97FF",
           "#FECB52"
          ],
          "font": {
           "color": "#2a3f5f"
          },
          "geo": {
           "bgcolor": "white",
           "lakecolor": "white",
           "landcolor": "#E5ECF6",
           "showlakes": true,
           "showland": true,
           "subunitcolor": "white"
          },
          "hoverlabel": {
           "align": "left"
          },
          "hovermode": "closest",
          "mapbox": {
           "style": "light"
          },
          "paper_bgcolor": "white",
          "plot_bgcolor": "#E5ECF6",
          "polar": {
           "angularaxis": {
            "gridcolor": "white",
            "linecolor": "white",
            "ticks": ""
           },
           "bgcolor": "#E5ECF6",
           "radialaxis": {
            "gridcolor": "white",
            "linecolor": "white",
            "ticks": ""
           }
          },
          "scene": {
           "xaxis": {
            "backgroundcolor": "#E5ECF6",
            "gridcolor": "white",
            "gridwidth": 2,
            "linecolor": "white",
            "showbackground": true,
            "ticks": "",
            "zerolinecolor": "white"
           },
           "yaxis": {
            "backgroundcolor": "#E5ECF6",
            "gridcolor": "white",
            "gridwidth": 2,
            "linecolor": "white",
            "showbackground": true,
            "ticks": "",
            "zerolinecolor": "white"
           },
           "zaxis": {
            "backgroundcolor": "#E5ECF6",
            "gridcolor": "white",
            "gridwidth": 2,
            "linecolor": "white",
            "showbackground": true,
            "ticks": "",
            "zerolinecolor": "white"
           }
          },
          "shapedefaults": {
           "line": {
            "color": "#2a3f5f"
           }
          },
          "ternary": {
           "aaxis": {
            "gridcolor": "white",
            "linecolor": "white",
            "ticks": ""
           },
           "baxis": {
            "gridcolor": "white",
            "linecolor": "white",
            "ticks": ""
           },
           "bgcolor": "#E5ECF6",
           "caxis": {
            "gridcolor": "white",
            "linecolor": "white",
            "ticks": ""
           }
          },
          "title": {
           "x": 0.05
          },
          "xaxis": {
           "automargin": true,
           "gridcolor": "white",
           "linecolor": "white",
           "ticks": "",
           "title": {
            "standoff": 15
           },
           "zerolinecolor": "white",
           "zerolinewidth": 2
          },
          "yaxis": {
           "automargin": true,
           "gridcolor": "white",
           "linecolor": "white",
           "ticks": "",
           "title": {
            "standoff": 15
           },
           "zerolinecolor": "white",
           "zerolinewidth": 2
          }
         }
        },
        "title": {
         "text": "نسبت مشتریان فعال",
         "x": 0.5,
         "xanchor": "center"
        },
        "width": 1000
       }
      }
     },
     "metadata": {},
     "output_type": "display_data"
    }
   ],
   "source": [
    "col = \"IsActiveMember\"\n",
    "title = \"نسبت مشتریان فعال\"\n",
    "width = global_width\n",
    "height = global_height\n",
    "custom_colors = [\n",
    "    \"#00CC96\", \n",
    "    \"#FFA15A\"\n",
    "]\n",
    "custom_labels = {\n",
    "    1: \"فعال\",\n",
    "    0: \"غیرفعال\"\n",
    "}\n",
    "draw_pie_chart(df, col, title, width, height, \n",
    "               custom_colors=custom_colors, custom_labels=custom_labels, save=True)"
   ]
  },
  {
   "cell_type": "code",
   "execution_count": null,
   "id": "67da9ed7",
   "metadata": {},
   "outputs": [
    {
     "data": {
      "application/vnd.plotly.v1+json": {
       "config": {
        "plotlyServerURL": "https://plot.ly"
       },
       "data": [
        {
         "domain": {
          "x": [
           0,
           1
          ],
          "y": [
           0,
           1
          ]
         },
         "hovertemplate": "Exited=%{label}<br>Count=%{value}<extra></extra>",
         "labels": [
          "باقی مانده",
          "ریزش پیدا کرده"
         ],
         "legendgroup": "",
         "name": "",
         "showlegend": true,
         "textinfo": "percent+label",
         "type": "pie",
         "values": {
          "bdata": "Gx/1Bw==",
          "dtype": "i2"
         }
        }
       ],
       "layout": {
        "font": {
         "family": "Vazir FD-WOL",
         "size": 13,
         "weight": "bold"
        },
        "height": 500,
        "legend": {
         "tracegroupgap": 0
        },
        "piecolorway": [
         "#00CC96",
         "#EF553B"
        ],
        "template": {
         "data": {
          "bar": [
           {
            "error_x": {
             "color": "#2a3f5f"
            },
            "error_y": {
             "color": "#2a3f5f"
            },
            "marker": {
             "line": {
              "color": "#E5ECF6",
              "width": 0.5
             },
             "pattern": {
              "fillmode": "overlay",
              "size": 10,
              "solidity": 0.2
             }
            },
            "type": "bar"
           }
          ],
          "barpolar": [
           {
            "marker": {
             "line": {
              "color": "#E5ECF6",
              "width": 0.5
             },
             "pattern": {
              "fillmode": "overlay",
              "size": 10,
              "solidity": 0.2
             }
            },
            "type": "barpolar"
           }
          ],
          "carpet": [
           {
            "aaxis": {
             "endlinecolor": "#2a3f5f",
             "gridcolor": "white",
             "linecolor": "white",
             "minorgridcolor": "white",
             "startlinecolor": "#2a3f5f"
            },
            "baxis": {
             "endlinecolor": "#2a3f5f",
             "gridcolor": "white",
             "linecolor": "white",
             "minorgridcolor": "white",
             "startlinecolor": "#2a3f5f"
            },
            "type": "carpet"
           }
          ],
          "choropleth": [
           {
            "colorbar": {
             "outlinewidth": 0,
             "ticks": ""
            },
            "type": "choropleth"
           }
          ],
          "contour": [
           {
            "colorbar": {
             "outlinewidth": 0,
             "ticks": ""
            },
            "colorscale": [
             [
              0,
              "#0d0887"
             ],
             [
              0.1111111111111111,
              "#46039f"
             ],
             [
              0.2222222222222222,
              "#7201a8"
             ],
             [
              0.3333333333333333,
              "#9c179e"
             ],
             [
              0.4444444444444444,
              "#bd3786"
             ],
             [
              0.5555555555555556,
              "#d8576b"
             ],
             [
              0.6666666666666666,
              "#ed7953"
             ],
             [
              0.7777777777777778,
              "#fb9f3a"
             ],
             [
              0.8888888888888888,
              "#fdca26"
             ],
             [
              1,
              "#f0f921"
             ]
            ],
            "type": "contour"
           }
          ],
          "contourcarpet": [
           {
            "colorbar": {
             "outlinewidth": 0,
             "ticks": ""
            },
            "type": "contourcarpet"
           }
          ],
          "heatmap": [
           {
            "colorbar": {
             "outlinewidth": 0,
             "ticks": ""
            },
            "colorscale": [
             [
              0,
              "#0d0887"
             ],
             [
              0.1111111111111111,
              "#46039f"
             ],
             [
              0.2222222222222222,
              "#7201a8"
             ],
             [
              0.3333333333333333,
              "#9c179e"
             ],
             [
              0.4444444444444444,
              "#bd3786"
             ],
             [
              0.5555555555555556,
              "#d8576b"
             ],
             [
              0.6666666666666666,
              "#ed7953"
             ],
             [
              0.7777777777777778,
              "#fb9f3a"
             ],
             [
              0.8888888888888888,
              "#fdca26"
             ],
             [
              1,
              "#f0f921"
             ]
            ],
            "type": "heatmap"
           }
          ],
          "histogram": [
           {
            "marker": {
             "pattern": {
              "fillmode": "overlay",
              "size": 10,
              "solidity": 0.2
             }
            },
            "type": "histogram"
           }
          ],
          "histogram2d": [
           {
            "colorbar": {
             "outlinewidth": 0,
             "ticks": ""
            },
            "colorscale": [
             [
              0,
              "#0d0887"
             ],
             [
              0.1111111111111111,
              "#46039f"
             ],
             [
              0.2222222222222222,
              "#7201a8"
             ],
             [
              0.3333333333333333,
              "#9c179e"
             ],
             [
              0.4444444444444444,
              "#bd3786"
             ],
             [
              0.5555555555555556,
              "#d8576b"
             ],
             [
              0.6666666666666666,
              "#ed7953"
             ],
             [
              0.7777777777777778,
              "#fb9f3a"
             ],
             [
              0.8888888888888888,
              "#fdca26"
             ],
             [
              1,
              "#f0f921"
             ]
            ],
            "type": "histogram2d"
           }
          ],
          "histogram2dcontour": [
           {
            "colorbar": {
             "outlinewidth": 0,
             "ticks": ""
            },
            "colorscale": [
             [
              0,
              "#0d0887"
             ],
             [
              0.1111111111111111,
              "#46039f"
             ],
             [
              0.2222222222222222,
              "#7201a8"
             ],
             [
              0.3333333333333333,
              "#9c179e"
             ],
             [
              0.4444444444444444,
              "#bd3786"
             ],
             [
              0.5555555555555556,
              "#d8576b"
             ],
             [
              0.6666666666666666,
              "#ed7953"
             ],
             [
              0.7777777777777778,
              "#fb9f3a"
             ],
             [
              0.8888888888888888,
              "#fdca26"
             ],
             [
              1,
              "#f0f921"
             ]
            ],
            "type": "histogram2dcontour"
           }
          ],
          "mesh3d": [
           {
            "colorbar": {
             "outlinewidth": 0,
             "ticks": ""
            },
            "type": "mesh3d"
           }
          ],
          "parcoords": [
           {
            "line": {
             "colorbar": {
              "outlinewidth": 0,
              "ticks": ""
             }
            },
            "type": "parcoords"
           }
          ],
          "pie": [
           {
            "automargin": true,
            "type": "pie"
           }
          ],
          "scatter": [
           {
            "fillpattern": {
             "fillmode": "overlay",
             "size": 10,
             "solidity": 0.2
            },
            "type": "scatter"
           }
          ],
          "scatter3d": [
           {
            "line": {
             "colorbar": {
              "outlinewidth": 0,
              "ticks": ""
             }
            },
            "marker": {
             "colorbar": {
              "outlinewidth": 0,
              "ticks": ""
             }
            },
            "type": "scatter3d"
           }
          ],
          "scattercarpet": [
           {
            "marker": {
             "colorbar": {
              "outlinewidth": 0,
              "ticks": ""
             }
            },
            "type": "scattercarpet"
           }
          ],
          "scattergeo": [
           {
            "marker": {
             "colorbar": {
              "outlinewidth": 0,
              "ticks": ""
             }
            },
            "type": "scattergeo"
           }
          ],
          "scattergl": [
           {
            "marker": {
             "colorbar": {
              "outlinewidth": 0,
              "ticks": ""
             }
            },
            "type": "scattergl"
           }
          ],
          "scattermap": [
           {
            "marker": {
             "colorbar": {
              "outlinewidth": 0,
              "ticks": ""
             }
            },
            "type": "scattermap"
           }
          ],
          "scattermapbox": [
           {
            "marker": {
             "colorbar": {
              "outlinewidth": 0,
              "ticks": ""
             }
            },
            "type": "scattermapbox"
           }
          ],
          "scatterpolar": [
           {
            "marker": {
             "colorbar": {
              "outlinewidth": 0,
              "ticks": ""
             }
            },
            "type": "scatterpolar"
           }
          ],
          "scatterpolargl": [
           {
            "marker": {
             "colorbar": {
              "outlinewidth": 0,
              "ticks": ""
             }
            },
            "type": "scatterpolargl"
           }
          ],
          "scatterternary": [
           {
            "marker": {
             "colorbar": {
              "outlinewidth": 0,
              "ticks": ""
             }
            },
            "type": "scatterternary"
           }
          ],
          "surface": [
           {
            "colorbar": {
             "outlinewidth": 0,
             "ticks": ""
            },
            "colorscale": [
             [
              0,
              "#0d0887"
             ],
             [
              0.1111111111111111,
              "#46039f"
             ],
             [
              0.2222222222222222,
              "#7201a8"
             ],
             [
              0.3333333333333333,
              "#9c179e"
             ],
             [
              0.4444444444444444,
              "#bd3786"
             ],
             [
              0.5555555555555556,
              "#d8576b"
             ],
             [
              0.6666666666666666,
              "#ed7953"
             ],
             [
              0.7777777777777778,
              "#fb9f3a"
             ],
             [
              0.8888888888888888,
              "#fdca26"
             ],
             [
              1,
              "#f0f921"
             ]
            ],
            "type": "surface"
           }
          ],
          "table": [
           {
            "cells": {
             "fill": {
              "color": "#EBF0F8"
             },
             "line": {
              "color": "white"
             }
            },
            "header": {
             "fill": {
              "color": "#C8D4E3"
             },
             "line": {
              "color": "white"
             }
            },
            "type": "table"
           }
          ]
         },
         "layout": {
          "annotationdefaults": {
           "arrowcolor": "#2a3f5f",
           "arrowhead": 0,
           "arrowwidth": 1
          },
          "autotypenumbers": "strict",
          "coloraxis": {
           "colorbar": {
            "outlinewidth": 0,
            "ticks": ""
           }
          },
          "colorscale": {
           "diverging": [
            [
             0,
             "#8e0152"
            ],
            [
             0.1,
             "#c51b7d"
            ],
            [
             0.2,
             "#de77ae"
            ],
            [
             0.3,
             "#f1b6da"
            ],
            [
             0.4,
             "#fde0ef"
            ],
            [
             0.5,
             "#f7f7f7"
            ],
            [
             0.6,
             "#e6f5d0"
            ],
            [
             0.7,
             "#b8e186"
            ],
            [
             0.8,
             "#7fbc41"
            ],
            [
             0.9,
             "#4d9221"
            ],
            [
             1,
             "#276419"
            ]
           ],
           "sequential": [
            [
             0,
             "#0d0887"
            ],
            [
             0.1111111111111111,
             "#46039f"
            ],
            [
             0.2222222222222222,
             "#7201a8"
            ],
            [
             0.3333333333333333,
             "#9c179e"
            ],
            [
             0.4444444444444444,
             "#bd3786"
            ],
            [
             0.5555555555555556,
             "#d8576b"
            ],
            [
             0.6666666666666666,
             "#ed7953"
            ],
            [
             0.7777777777777778,
             "#fb9f3a"
            ],
            [
             0.8888888888888888,
             "#fdca26"
            ],
            [
             1,
             "#f0f921"
            ]
           ],
           "sequentialminus": [
            [
             0,
             "#0d0887"
            ],
            [
             0.1111111111111111,
             "#46039f"
            ],
            [
             0.2222222222222222,
             "#7201a8"
            ],
            [
             0.3333333333333333,
             "#9c179e"
            ],
            [
             0.4444444444444444,
             "#bd3786"
            ],
            [
             0.5555555555555556,
             "#d8576b"
            ],
            [
             0.6666666666666666,
             "#ed7953"
            ],
            [
             0.7777777777777778,
             "#fb9f3a"
            ],
            [
             0.8888888888888888,
             "#fdca26"
            ],
            [
             1,
             "#f0f921"
            ]
           ]
          },
          "colorway": [
           "#636efa",
           "#EF553B",
           "#00cc96",
           "#ab63fa",
           "#FFA15A",
           "#19d3f3",
           "#FF6692",
           "#B6E880",
           "#FF97FF",
           "#FECB52"
          ],
          "font": {
           "color": "#2a3f5f"
          },
          "geo": {
           "bgcolor": "white",
           "lakecolor": "white",
           "landcolor": "#E5ECF6",
           "showlakes": true,
           "showland": true,
           "subunitcolor": "white"
          },
          "hoverlabel": {
           "align": "left"
          },
          "hovermode": "closest",
          "mapbox": {
           "style": "light"
          },
          "paper_bgcolor": "white",
          "plot_bgcolor": "#E5ECF6",
          "polar": {
           "angularaxis": {
            "gridcolor": "white",
            "linecolor": "white",
            "ticks": ""
           },
           "bgcolor": "#E5ECF6",
           "radialaxis": {
            "gridcolor": "white",
            "linecolor": "white",
            "ticks": ""
           }
          },
          "scene": {
           "xaxis": {
            "backgroundcolor": "#E5ECF6",
            "gridcolor": "white",
            "gridwidth": 2,
            "linecolor": "white",
            "showbackground": true,
            "ticks": "",
            "zerolinecolor": "white"
           },
           "yaxis": {
            "backgroundcolor": "#E5ECF6",
            "gridcolor": "white",
            "gridwidth": 2,
            "linecolor": "white",
            "showbackground": true,
            "ticks": "",
            "zerolinecolor": "white"
           },
           "zaxis": {
            "backgroundcolor": "#E5ECF6",
            "gridcolor": "white",
            "gridwidth": 2,
            "linecolor": "white",
            "showbackground": true,
            "ticks": "",
            "zerolinecolor": "white"
           }
          },
          "shapedefaults": {
           "line": {
            "color": "#2a3f5f"
           }
          },
          "ternary": {
           "aaxis": {
            "gridcolor": "white",
            "linecolor": "white",
            "ticks": ""
           },
           "baxis": {
            "gridcolor": "white",
            "linecolor": "white",
            "ticks": ""
           },
           "bgcolor": "#E5ECF6",
           "caxis": {
            "gridcolor": "white",
            "linecolor": "white",
            "ticks": ""
           }
          },
          "title": {
           "x": 0.05
          },
          "xaxis": {
           "automargin": true,
           "gridcolor": "white",
           "linecolor": "white",
           "ticks": "",
           "title": {
            "standoff": 15
           },
           "zerolinecolor": "white",
           "zerolinewidth": 2
          },
          "yaxis": {
           "automargin": true,
           "gridcolor": "white",
           "linecolor": "white",
           "ticks": "",
           "title": {
            "standoff": 15
           },
           "zerolinecolor": "white",
           "zerolinewidth": 2
          }
         }
        },
        "title": {
         "text": "نسبت مشتریان ریزش پیدا کرده",
         "x": 0.5,
         "xanchor": "center"
        },
        "width": 1000
       }
      }
     },
     "metadata": {},
     "output_type": "display_data"
    }
   ],
   "source": [
    "col = \"Exited\"\n",
    "title = \"نسبت مشتریان ریزش پیدا کرده\"\n",
    "width = global_width\n",
    "height = global_height\n",
    "custom_colors = [\n",
    "    \"#00CC96\", \n",
    "    \"#EF553B\"\n",
    "]\n",
    "custom_labels = {\n",
    "    0: \"باقی مانده\",\n",
    "    1: \"ریزش پیدا کرده\"\n",
    "}\n",
    "draw_pie_chart(df, col, title, width, height, \n",
    "               custom_colors=custom_colors, custom_labels=custom_labels, save=True)"
   ]
  }
 ],
 "metadata": {
  "kernelspec": {
   "display_name": "ds_py3.12.11",
   "language": "python",
   "name": "python3"
  },
  "language_info": {
   "codemirror_mode": {
    "name": "ipython",
    "version": 3
   },
   "file_extension": ".py",
   "mimetype": "text/x-python",
   "name": "python",
   "nbconvert_exporter": "python",
   "pygments_lexer": "ipython3",
   "version": "3.12.11"
  }
 },
 "nbformat": 4,
 "nbformat_minor": 5
}
